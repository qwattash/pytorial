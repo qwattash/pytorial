{
 "cells": [
  {
   "cell_type": "markdown",
   "metadata": {},
   "source": [
    "# Basic Python\n",
    "\n",
    "This chapter introduces the core language ideas and constructions, with a few exampls. If you have basic familiarity with programming, you can [skip](less-basic-python.ipynb) the introduction.\n",
    "\n",
    "We being our journey with a realistic example of a python script that loads data from a CSV file and produces a summary of its contents. This is a simplified example, in the real world you would use one of the popular Python data analysis libraries, such as pandas, numpy, or polars. However, it is an interesting real-world use case that is probably more interesting than some made-up problem. The goal of this chapter is to get you to a point where you can read this code and understand what it means."
   ]
  },
  {
   "cell_type": "code",
   "execution_count": 73,
   "metadata": {},
   "outputs": [
    {
     "name": "stdout",
     "output_type": "stream",
     "text": [
      "{'column-A': 51.6, 'column-B': 49.7, 'column-C': 66.5, 'column-D': 54.8}\n"
     ]
    }
   ],
   "source": [
    "# Import modules from the Python standard library (no need to install these separately)\n",
    "from functools import reduce\n",
    "from operator import add\n",
    "from pathlib import Path\n",
    "\n",
    "# Our first function!\n",
    "# You read this as:\n",
    "# def -> A function!\n",
    "# parse_header -> the name of the function\n",
    "# (...) -> function arguments/parameters\n",
    "# In this case, we have only one argument which we decided to call 'csv_file'\n",
    "def parse_header(csv_file):\n",
    "    \"\"\"\n",
    "    Given a File object for our CSV file, read the first line and interpret it as\n",
    "    the header, containing the column names separated by a comma ',' character.\n",
    "    Return a list of cleaned-up column names, without the comma or leading/trailing spaces.\n",
    "    \"\"\"\n",
    "    # Read a line from the file\n",
    "    header_line = csv_file.readline()\n",
    "    # If the line is empty, we were given an empty file, so we complain!\n",
    "    if not header_line:\n",
    "        raise RuntimeError(\"Missing header line\")\n",
    "    # A more complex python line:\n",
    "    # 1. Split the header into pieces at each ',' character and return a list\n",
    "    # 2. Go through the list, for each name in the list, we call the string function `strip()`.\n",
    "    #    this will remove leading and trailing space characters.\n",
    "    # 3. Collect the stripped names into a new list.\n",
    "    names = [name.strip() for name in header_line.split(\",\")]\n",
    "    # Return the list of names as the result of this function\n",
    "    return names\n",
    "\n",
    "def parse_line(line):\n",
    "    \"\"\"\n",
    "    Similar to parse_header(), however we expect a line of text from the file as\n",
    "    the 'line' argument to the function.\n",
    "    \"\"\"\n",
    "    # This is similar to the case above where we strip() the name, instead here we\n",
    "    # convert it to an integer number (if it fails it will raise an error).\n",
    "    return [int(v) for v in line.split(\",\")]\n",
    "\n",
    "def compute_summary(data):\n",
    "    \"\"\"\n",
    "    For each element in the data dictionary, compute the mean. We treat the dictionary\n",
    "    key as the column name, and the value associated to the key as the list of samples in the column.\n",
    "    Return a new dictionary containing the mean of each column.\n",
    "    \"\"\"\n",
    "    # A new dictionary (see Collections)\n",
    "    summary = {}\n",
    "\n",
    "    # Check every (name, column data) pair in the input data dictionary\n",
    "    for name, column in data.items():\n",
    "        # Compute the mean of all the samples in the column\n",
    "        total = 0\n",
    "        for sample in column:\n",
    "            total = total + sample\n",
    "        mean = total / len(column)\n",
    "        summary[name] = mean\n",
    "        # Note that all this could be written much more compactly as:\n",
    "        # summary[name] = reduce(add, column, 0) / len(column)\n",
    "        # Both are correct, but this is much more compact to write once you get used to it.\n",
    "    return summary\n",
    "\n",
    "def load_file(csv_file):\n",
    "    \"\"\"\n",
    "    Given a valid opened file, load its content and produce a summary containing the mean\n",
    "    for each column.\n",
    "    \"\"\"\n",
    "    # A new dictionary (see Collections).\n",
    "    # We will use this to store data by column.\n",
    "    # Each entry in the dictionary has a label (key) and a value. We set the label to the column name\n",
    "    # and the value to the list of samples for the column.\n",
    "    # So, if the csv file contains:\n",
    "    # A, B\n",
    "    # 1, 3\n",
    "    # 2, 4\n",
    "    # The 'data' dictionary will contain\n",
    "    # data[\"A\"] = [1, 2]\n",
    "    # data[\"B\"] = [3, 4]\n",
    "    data = {}\n",
    "\n",
    "    # Read the first line of the file and interpret it as the column names\n",
    "    columns = parse_header(csv_file)\n",
    "    # Initialize each 'data' entry by creating an empty list of samples for each column name\n",
    "    for col in columns:\n",
    "        data[col] = []\n",
    "\n",
    "    # Now read the file line-by-line (from the second line)\n",
    "    for line in csv_file:\n",
    "        # Convert the line into a list of numbers, these are the samples for a 'row' of the csv file.\n",
    "        line_data = parse_line(line)\n",
    "        # Double check that we have the right number of samples in the row\n",
    "        if len(line_data) != len(columns):\n",
    "            raise RuntimeError(f\"Mismatch between number of columns in line and header\")\n",
    "        # Now go over every sample in the row, column_number is generated by `enumerate` from 0 to N (length of the row)\n",
    "        for column_number, value in enumerate(line_data):\n",
    "            # Fetch the column name for the given column number\n",
    "            column_at_index = columns[column_number]\n",
    "            # Append the new sample to the right list of samples\n",
    "            data[column_at_index].append(value)\n",
    "\n",
    "    # Call the function that computes the means of the columns, and return its result.\n",
    "    return compute_summary(data)\n",
    "\n",
    "def load(path):\n",
    "    \"\"\"\n",
    "    Load a CSV file at the given path.\n",
    "\n",
    "    Arguments:\n",
    "    path: target file path as a Path object\n",
    "\n",
    "    Returns:\n",
    "    A dictionary containing the mean of each column.\n",
    "    \"\"\"\n",
    "    if not path.exists() or not path.is_file():\n",
    "        raise ValueError(f\"Invalid path: {path}\")\n",
    "\n",
    "    # Open a file and name it 'csv_file', when the code block within the `with .. as` statement\n",
    "    # is done processing the file, the file is automatically closed.\n",
    "    with open(path, \"r\") as csv_file:\n",
    "        return load_file(csv_file)\n",
    "\n",
    "\n",
    "target = Path.cwd() / \"sample-data\" / \"simple.csv\"\n",
    "summary = load(target)\n",
    "print(summary)"
   ]
  },
  {
   "cell_type": "markdown",
   "metadata": {},
   "source": [
    "If all this seems confusing, don't worry! The remainder of this chapter will allow you to understand everything that this script does, so when you learn something below you can come up here and check whether it makes more sense."
   ]
  },
  {
   "cell_type": "markdown",
   "metadata": {},
   "source": [
    "## help!\n",
    "You can (almost) always ask for help. This is especially useful in an interactive environment. If you run `help()` with a python function or other object, you will get some helpful insight on how it can be used."
   ]
  },
  {
   "cell_type": "code",
   "execution_count": null,
   "metadata": {},
   "outputs": [],
   "source": [
    "help(print)"
   ]
  },
  {
   "cell_type": "code",
   "execution_count": null,
   "metadata": {},
   "outputs": [],
   "source": [
    "help(int)"
   ]
  },
  {
   "cell_type": "markdown",
   "metadata": {},
   "source": [
    "## Comments #1\n",
    "Plain text after a `#` is called a _comment_ and is ignored by Python. It is useful to the programmer to annotate what the heck is going on in the code. I will use them profusely, and you should too until you are comfortable enough with your writing that you need only more intricate pieces of code.\n",
    "A good guideline is:\n",
    "- While learning, annotate as much as you want\n",
    "- When writing things that you expect to come back and look at in a few months, remember to annotate things otherwise you will forget why you did something\n",
    "- When writing code that will be shared: that's why there is a part #2 to this.\n",
    "\n",
    "Multi-line comments are done using triple quotes `\"\"\"...\"\"\"`, this is most commonly used to annotate functions with text."
   ]
  },
  {
   "cell_type": "markdown",
   "metadata": {},
   "source": [
    "## Printing out stuff\n",
    "Printing out things is probably the first thing you learn in every language. In Python this is done using the built-in `print()` function. You can print almost everything, from integers, to strings and more complex data types.\n",
    "\n",
    "Functions are pieces of code that perform a task given some input information. For instance, the `print()` function's job is to write out whatever you give it as text. We say that you _call_ functions by passing arguments to them, using the parentheses to delimit the list of arguments you give to the function. The arguments are the inputs that you give to the function. A function may give you a result back, you can capture this in a variable (see next section) or do whatever else you please with it. The `print()` function does not produce a result, so it returns a special value called `None`, which represents the absence of a value.\n",
    "\n",
    "Here we also introduce two basic data types: integers and strings. Integers are just the integral numbers you are used to, strings are pieces of text that you can create by enclosing some arbitrary text in single or double quotes: `'I am a string'`, `\"I am also a string\"`."
   ]
  },
  {
   "cell_type": "code",
   "execution_count": 92,
   "metadata": {},
   "outputs": [
    {
     "name": "stdout",
     "output_type": "stream",
     "text": [
      "10\n",
      "some text\n",
      "<built-in function print>\n",
      "10 20 more things\n",
      "10\n",
      "None\n"
     ]
    }
   ],
   "source": [
    "# a number\n",
    "print(10)\n",
    "# a string of text\n",
    "print(\"some text\")\n",
    "# a python function\n",
    "print(print)\n",
    "# multiple things\n",
    "print(10, 20, \"more things\")"
   ]
  },
  {
   "cell_type": "markdown",
   "metadata": {},
   "source": [
    "## Naming things\n",
    "In order to perform any useful task you probably will to store temporary values, input data and output data somewhere, so that you can perform operations on them. You do this by assigning values to variables. You can think of variables as labels that you attach to the things you work with, so that you can later find them."
   ]
  },
  {
   "cell_type": "code",
   "execution_count": null,
   "metadata": {},
   "outputs": [],
   "source": [
    "# Basic example using variables `a` and `b`\n",
    "a = 10\n",
    "b = 20\n",
    "print(10 * 20)\n",
    "\n",
    "# Names can be long with some special character\n",
    "a_variable = 10\n",
    "print(a_variable)\n",
    "\n",
    "# Variables can be assigned any kind of data\n",
    "something = 10\n",
    "print(\"I am a number\", something)\n",
    "something = \"hello!\"\n",
    "print(\"I am text\", something)\n",
    "\n",
    "# Variable names can include numbers, but not at the beginning\n",
    "number1 = 1\n",
    "number2 = 2\n",
    "# 2number -> invalid"
   ]
  },
  {
   "cell_type": "markdown",
   "metadata": {},
   "source": [
    "# Imports and modules\n",
    "Python code is organised into modules. Each module may correspond to one or more Python source files somewhere in your system (this is a simplification). In order to use functions and other things from a module, you first need to tell Python where to find them. The tool for this job is the `import` statement.\n",
    "\n",
    "The first lines of a Python file contain the `import` statements. These are used to tell Python that we are going to use some code from another module.\n",
    "There are two styles of import: the `from` import and the regular `import`. The `import` statement tells Python to go find a module named \"functools\", load the functions, classes and everything else it contains and make it accessible to you via the variable `functools` in your program.\n",
    "\n",
    "Conceptually, you can think of the `import` doing the following:\n",
    "```\n",
    "functools = magic_function_that_loads_a_module_by_name(\"functools\")\n",
    "# Do something with functools\n",
    "```"
   ]
  },
  {
   "cell_type": "code",
   "execution_count": 89,
   "metadata": {},
   "outputs": [],
   "source": [
    "import functools\n",
    "# Some time later, we want to use the function 'reduce' from the functools module\n",
    "# so we can call it by specifying that it comes from functools (which we imported)\n",
    "# functools.reduce(...)"
   ]
  },
  {
   "cell_type": "markdown",
   "metadata": {},
   "source": [
    "The `from <module> import <something>` statement is slightly different. It tells Python to go find a module with a given name, take the functions (or other Python constructs) that you list after the `import` keyword and make them available in your program."
   ]
  },
  {
   "cell_type": "code",
   "execution_count": 93,
   "metadata": {},
   "outputs": [],
   "source": [
    "from functools import reduce\n",
    "# Some time later, we can use the function `reduce` directly, without naming the module it comes from,\n",
    "# because we already told Python that the \"thing\" called `reduce` in our program really comes from the functools module.\n",
    "# reduce(...)"
   ]
  },
  {
   "cell_type": "markdown",
   "metadata": {},
   "source": [
    "Finally, you can rename the stuff you import. Consider the case where you **really** want to call one of your variables functools and you will not take \"no\" for an answer. Now, if you import the `reduce` function you will run into troubles. So, it is possible to use the `as` keyword to set a custom name for imported objects."
   ]
  },
  {
   "cell_type": "code",
   "execution_count": null,
   "metadata": {},
   "outputs": [],
   "source": [
    "import functools\n",
    "\n",
    "print(\"Before my variable assignment\", functools.reduce)\n",
    "\n",
    "functools = 10\n",
    "# Recall that after the import is resolved, `functools` is just another Python variable that happens to contain a module.\n",
    "# What happens here is that I'm accidentally changing the content of the variable to the number 10.\n",
    "print(\"After my variable assignment\", functools.reduce)"
   ]
  },
  {
   "cell_type": "code",
   "execution_count": null,
   "metadata": {},
   "outputs": [],
   "source": [
    "import functools as ft\n",
    "\n",
    "# functools is not defined now, because we renamed it to `ft`\n",
    "# print(functools)\n",
    "\n",
    "functools = 10\n",
    "print(\"After my variable assignment\", ft.reduce)\n",
    "\n",
    "# The same can be done in the from .. import\n",
    "from functools import reduce as my_reduce\n",
    "# As before, `reduce` is not defined now, because we renamed it\n",
    "# print(reduce)\n",
    "print(\"Renamed reduce function\", my_reduce)"
   ]
  },
  {
   "cell_type": "markdown",
   "metadata": {},
   "source": [
    "You may be asking yourself \"where do modules come from?\", and you would be right to ask. Managing third-party python packages is a rather involved topic that I defer to another chapter. For now, I will only use modules that come in the [Python standard library](https://docs.python.org/3/library/index.html); the standard library comes with your python installation, so you don't need to do anything particular to use them, just import what you need. The standard library documentation (linked before) will help you find and use the right functions, classes and whatever else Python offers."
   ]
  },
  {
   "cell_type": "markdown",
   "metadata": {},
   "source": [
    "## Errors #1\n",
    "This is very early in the list because, if you are a beginner, you may or may not get scared of errors and forget to read what it says before going back to find what is wrong.\n",
    "Errors are the most common thing you will get out of writing programs, so better get used to them early on.\n",
    "\n",
    "This is an error:"
   ]
  },
  {
   "cell_type": "code",
   "execution_count": null,
   "metadata": {},
   "outputs": [],
   "source": [
    "print(1 / 0)"
   ]
  },
  {
   "cell_type": "markdown",
   "metadata": {},
   "source": [
    "Some of the output will be confusing at this stage, and that is fine, you will learn all about it in due time. For now just be aware that even with very little knowledge you can extract useful information of what is going wrong. In this case you are dividing something by zero, and python is telling you the line of code where this is happening.\n",
    "\n",
    "There are multiple _types_ of errors that convey information about what went wrong. The python language defines many different errors that have specific meanings (see [Exception](https://docs.python.org/3/library/exceptions.html) if you are curious). We will dig more into this topic when we learn to generate errors and create custom types of errors."
   ]
  },
  {
   "cell_type": "markdown",
   "metadata": {},
   "source": [
    "## Indentation #1\n",
    "A very quick note about indentation. Indentation in Python matters, indented code is treated as a separate block of code, this will be clarified below, for now just appreciate the fact that everything in the early examples is not indented at all. However, if you fail to indent correctly, you will get errors."
   ]
  },
  {
   "cell_type": "code",
   "execution_count": null,
   "metadata": {},
   "outputs": [],
   "source": [
    "# IndentationError: you messed up the indentation\n",
    "print(\"hello\")\n",
    "    print(\"world\")"
   ]
  },
  {
   "cell_type": "markdown",
   "metadata": {},
   "source": [
    "It is also worth remembering that not all blank space is equal. There are (for the most part) two types of blank character: the space ' ' and the tab '\\t'. The _tab_ origin dates back to [typewriters](https://en.wikipedia.org/wiki/Tab_key) and has since been adopted in programming languages to correspond to a power-of-two number of spaces. In python it is encouraged to avoid using _tab_ indentation and instead use spaces, this makes the code easier to read on different editors that configure the tab-width differently. Most editors will expand the tab key into 4 spaces. Mixing spaces and tabs is a recipe for disaster!"
   ]
  },
  {
   "cell_type": "code",
   "execution_count": null,
   "metadata": {},
   "outputs": [],
   "source": [
    "# TabError: you mixed tabs and spaces, please don't\n",
    "def mixing_tab_and_space():\n",
    "    print(\"Indented by 4 spaces\")\n",
    "\tprint(\"Indented by a tab. Hard to notice, right?\")"
   ]
  },
  {
   "cell_type": "markdown",
   "metadata": {},
   "source": [
    "## Objects and Types\n",
    "\n",
    "In Python, at the core, everything you deal with is an _object_. The _object_ is a piece of information with some associated operations you can perform on it. The set of operations you can perform on the object and its properties are determined by its _type_ (or _class_). The _class_ is the language construct that allows you to create custom types; however, we will dig into custom types later on, this section focuses on the basic built-in types in Python.\n",
    "\n",
    "As an aside, Python also has a more relaxed notion of data types, often referred to as _duck typing_ (this term comes from the saying “If it walks like a duck, and it quacks like a duck, then it must be a duck”). This is a concept related to dynamic typing, where the _class_ of the object is less important than the methods (operations) it defines. We will address this when talking about classes.\n",
    "\n",
    "To illustrate the idea of a type, consider for example the number 10. It is an object and you can ask python its type using the `type()` function, which will tell you its type is `int`. As usual, the `help()` function will tell you something more about the `int` class, which is the class that describes all integer numbers."
   ]
  },
  {
   "cell_type": "code",
   "execution_count": null,
   "metadata": {},
   "outputs": [],
   "source": [
    "type(10)"
   ]
  },
  {
   "cell_type": "code",
   "execution_count": null,
   "metadata": {},
   "outputs": [],
   "source": [
    "help(10)"
   ]
  },
  {
   "cell_type": "markdown",
   "metadata": {},
   "source": [
    "Here, the type of the number 10 is `int`, which correspond to the class of integer numbers. We say that 10 is an _instance_ of the `int` _class_.\n",
    "\n",
    "You will want additional data types for your programs, in general may find yourself in need of:\n",
    "- numbers\n",
    "- decimal numbers\n",
    "- text\n",
    "- collections of things\n",
    "- complex objects that represent something in your program (e.g. a person identity is composed of text for the name, numbers for age and date of birth)\n",
    "\n",
    "Finally, there is a special type called the `NoneType`, which is the type of the special object `None`. This represents the absence of a value and is used as a placeholder or a return value when the absence of an object is not an error.\n",
    "\n",
    "The notion of _objects_ has very important consequences on how the language is structured, so it is important to introduce the concept early on. We will progressively expand on the idea.\n",
    "For now the core ideas to recall informally are:\n",
    "- An _object_ is everything you can manipulate, generally it represents some data (e.g. a number).\n",
    "- A _variable_ is a label that you assign to objects to name and reference them in other operations\n",
    "- The _type_ or _class_ of an _object_ tells you _what_ your object is, and the _operations_ you can perform on it. \n",
    "For example, when I type `some_value = 10`, I create an object of type `int` with the value of 10, and give it the name `some_value`, so that I can refer to it later. The `int` type will define what I can do with it, for example the ability to use the four basic arithmetic operations with it."
   ]
  },
  {
   "cell_type": "markdown",
   "metadata": {},
   "source": [
    "# CSV loader - Part 1\n",
    "Now that we have some basics, let's start thinking about loading our CSV file. Let's split the problem into a mental (or written) set of smaller tasks that we need to do:\n",
    "1. I need to know where the file is, so I want its **path** in the filesystem.\n",
    "2. I need to somehow open the file.\n",
    "3. Read the file line-by-line.\n",
    "4. Somehow interpret the data in each line.\n",
    "5. Produce the mean for each column of data.\n",
    "6. Report the result back to the user.\n",
    "\n",
    "Let's start from point (1). Given that we are in an example, we already know the path to the file, it is found at `sample-data/simple.csv`, relative to directory our Python program is running from.\n",
    "\n",
    "In modern Python, we use the `pathlib` module to manage file paths. It provides an handy data type called `Path` which shields us from the differences between Linux, MacOS and Windows paths, and provide some useful functions to check whether a file exists or get the current directory. So the first thing we do is to import the `Path` type.\n",
    "\n",
    "Given a **type**, you create an **instance** of that type by \"calling\" the type object in the same way you call a function."
   ]
  },
  {
   "cell_type": "code",
   "execution_count": 98,
   "metadata": {},
   "outputs": [
    {
     "name": "stdout",
     "output_type": "stream",
     "text": [
      "/some/path/to/file.txt\n"
     ]
    }
   ],
   "source": [
    "from pathlib import Path\n",
    "\n",
    "# A path to a file, the file does not need to exist for us to create the path.\n",
    "my_path = Path(\"/some/path/to/file.txt\")\n",
    "print(my_path)"
   ]
  },
  {
   "cell_type": "markdown",
   "metadata": {},
   "source": [
    "In fact, when you do this Python runs a special function associated to the type, called the `__init__()` function, using the arguments you specify. I mention this because sometimes it is useful to look at the documentation for that function in order to understand how to create an object of that type, e.g. `help(MyType.__init__)`. In most cases, the `help(MyType)` provides instruction about how to create new objects, this is the case for the `Path` class.\n",
    "\n",
    "We will dig more into special functions, which are the ones starting and ending with two underscores. I'm mentioning this now so that you can better orient yourself in the Python documentation and `help()` output."
   ]
  },
  {
   "cell_type": "code",
   "execution_count": null,
   "metadata": {},
   "outputs": [],
   "source": [
    "help(Path)"
   ]
  },
  {
   "cell_type": "markdown",
   "metadata": {},
   "source": [
    "After browsing the help message for the `Path` class, we focus on the `cwd()` and `exists()` functions. Recall that you can use the `help()` function for individual functions, so you can actually limit the amount of text printed by help!"
   ]
  },
  {
   "cell_type": "code",
   "execution_count": 102,
   "metadata": {},
   "outputs": [
    {
     "name": "stdout",
     "output_type": "stream",
     "text": [
      "Help on method cwd in module pathlib:\n",
      "\n",
      "cwd() method of builtins.type instance\n",
      "    Return a new path pointing to the current working directory\n",
      "    (as returned by os.getcwd()).\n",
      "\n",
      "Help on function exists in module pathlib:\n",
      "\n",
      "exists(self)\n",
      "    Whether this path exists.\n",
      "\n"
     ]
    }
   ],
   "source": [
    "from pathlib import Path\n",
    "\n",
    "help(Path.cwd)\n",
    "help(Path.exists)"
   ]
  },
  {
   "cell_type": "markdown",
   "metadata": {},
   "source": [
    "Note that `Path.cwd()` is somewhat special, because it can be called directly on the **type** `Path` instead of an **instance** `Path(\"/my/path/to/file.txt\")`."
   ]
  },
  {
   "cell_type": "code",
   "execution_count": 104,
   "metadata": {},
   "outputs": [
    {
     "name": "stdout",
     "output_type": "stream",
     "text": [
      "cwd() called on the Path type /home/qwattash/git/pytorial\n",
      "cwd() called on a Path instance /home/qwattash/git/pytorial\n"
     ]
    }
   ],
   "source": [
    "from pathlib import Path\n",
    "\n",
    "path_object = Path(\"some/file.txt\")\n",
    "print(\"cwd() called on the Path type\", Path.cwd())\n",
    "print(\"cwd() called on a Path instance\", path_object.cwd())"
   ]
  },
  {
   "cell_type": "markdown",
   "metadata": {},
   "source": [
    "Normally, you need to first create an object, then you can call the functions defined by its type (the _class_) on your object. This is because these functions **act** on your object, they modify its contents or use its contents to do their job. The `cwd()` function **creates** a new Path, so it does not need one in the first place.\n",
    "\n",
    "If you try the same with the `exists()` function, it will fail. This is because to check whether a path exists you need some path to check, so the `exists()` function must **act** on an existing Path object."
   ]
  },
  {
   "cell_type": "code",
   "execution_count": 105,
   "metadata": {},
   "outputs": [
    {
     "name": "stdout",
     "output_type": "stream",
     "text": [
      "Does path object exists? False\n"
     ]
    }
   ],
   "source": [
    "print(\"Does path object exists?\", path_object.exists())"
   ]
  },
  {
   "cell_type": "code",
   "execution_count": 107,
   "metadata": {},
   "outputs": [
    {
     "ename": "TypeError",
     "evalue": "Path.exists() missing 1 required positional argument: 'self'",
     "output_type": "error",
     "traceback": [
      "\u001b[0;31m---------------------------------------------------------------------------\u001b[0m",
      "\u001b[0;31mTypeError\u001b[0m                                 Traceback (most recent call last)",
      "Cell \u001b[0;32mIn[107], line 2\u001b[0m\n\u001b[1;32m      1\u001b[0m \u001b[38;5;66;03m# I can't call exists() on the Path type, because it does not know which path to check!\u001b[39;00m\n\u001b[0;32m----> 2\u001b[0m \u001b[43mPath\u001b[49m\u001b[38;5;241;43m.\u001b[39;49m\u001b[43mexists\u001b[49m\u001b[43m(\u001b[49m\u001b[43m)\u001b[49m\n",
      "\u001b[0;31mTypeError\u001b[0m: Path.exists() missing 1 required positional argument: 'self'"
     ]
    }
   ],
   "source": [
    "# I can't call exists() on the Path type, because it does not know which path to check!\n",
    "Path.exists()"
   ]
  },
  {
   "cell_type": "markdown",
   "metadata": {},
   "source": [
    "As you can see, it complains about a mysterious `self` positional argument. We will dig more into it when talking about classes; however, the presence of that special argument tells you that the function **must** be called on an object.\n",
    "If you check the help for the function `exists()` you will see that the first parameter is called `self`.\n",
    "\n",
    "Now we are equipped with almost everything we need to create a path from the current directory, so let's see how it's done."
   ]
  },
  {
   "cell_type": "code",
   "execution_count": 110,
   "metadata": {},
   "outputs": [
    {
     "name": "stdout",
     "output_type": "stream",
     "text": [
      "Found our file /home/qwattash/git/pytorial/sample-data/simple.csv\n"
     ]
    }
   ],
   "source": [
    "from pathlib import Path\n",
    "\n",
    "target = Path.cwd() / \"sample-data\" / \"simple.csv\"\n",
    "if not target.exists():\n",
    "    print(\"Error, the file does not exist!\")\n",
    "else:\n",
    "    print(\"Found our file\", target)"
   ]
  },
  {
   "cell_type": "markdown",
   "metadata": {},
   "source": [
    "Finally, this gives us our file path!\n",
    "\n",
    "We have one final thing to check: what about that division operator `/`? I thought you can't divide text!"
   ]
  },
  {
   "cell_type": "code",
   "execution_count": null,
   "metadata": {},
   "outputs": [],
   "source": [
    "a = \"hello\" / \"world\""
   ]
  },
  {
   "cell_type": "markdown",
   "metadata": {},
   "source": [
    "Uhm, what is going on then? The `Path` class is the key here. In Python, you can _override_ the behaviour of operators for a class; in this case, the `Path` class modifies the behaviour of the `/` operator so that when you have `a_path / another_path_or_string`, the result will be the concatenation of the two path elements using the separator specific to your system ('/' for Linux, '\\' for Windows)."
   ]
  },
  {
   "cell_type": "code",
   "execution_count": 112,
   "metadata": {},
   "outputs": [
    {
     "name": "stdout",
     "output_type": "stream",
     "text": [
      "hello/world\n"
     ]
    }
   ],
   "source": [
    "my_path = Path(\"hello\")\n",
    "print(my_path / \"world\")"
   ]
  },
  {
   "cell_type": "markdown",
   "metadata": {},
   "source": [
    "Nice! This was quite a journey just to write one line, but we covered a lot of ground here so take a break and relax a bit."
   ]
  },
  {
   "cell_type": "markdown",
   "metadata": {},
   "source": [
    "# More Python basics"
   ]
  },
  {
   "cell_type": "markdown",
   "metadata": {},
   "source": [
    "## Operators\n",
    "You can perform basic arithmetic operations:"
   ]
  },
  {
   "cell_type": "code",
   "execution_count": null,
   "metadata": {},
   "outputs": [],
   "source": [
    "# Number arithmetic\n",
    "print(\"add\", 1 + 1)\n",
    "print(\"subtract\", 2 - 10)\n",
    "print(\"multiply\", 10 * 2)\n",
    "print(\"divide\", 10 / 5)\n",
    "print(\"remainder\", 10 % 3)\n",
    "print(\"exponentiation\", 10**2)\n",
    "# with decimal points\n",
    "print(\"floating point add\", 1.10 + 3.5)\n",
    "\n",
    "# Grouping can be done with parentheses\n",
    "print(\"grouping\", (1 + 1) * 4, \"vs\", 1 + 1 * 4)"
   ]
  },
  {
   "cell_type": "markdown",
   "metadata": {},
   "source": [
    "Some of the operators are reused (_overloaded_ is the technical jargon) for other data types as well, text for example:"
   ]
  },
  {
   "cell_type": "code",
   "execution_count": null,
   "metadata": {},
   "outputs": [],
   "source": [
    "# Adding text? concatenation!\n",
    "print(\"what\" + \"is\" + \"this\" + \"magic\" + \"you\" + \"speak\" + \"of?\")\n",
    "# note that this is concatenating the text but does not add any spaces, you have to do that yourself when you do need it."
   ]
  },
  {
   "cell_type": "code",
   "execution_count": null,
   "metadata": {},
   "outputs": [],
   "source": [
    "# Subtracting text does not make sense\n",
    "print(\"a\" - \"b\")"
   ]
  },
  {
   "cell_type": "markdown",
   "metadata": {},
   "source": [
    "## Python data types"
   ]
  },
  {
   "cell_type": "markdown",
   "metadata": {},
   "source": [
    "Here is a quick showcase of some useful Python built-in data types.\n",
    "\n",
    "**Integral numbers** Well, they are integral numbers."
   ]
  },
  {
   "cell_type": "code",
   "execution_count": null,
   "metadata": {},
   "outputs": [],
   "source": [
    "# Explicitly create them using the `int` type\n",
    "x = int(10)\n",
    "print(\"explicit X\", type(x))\n",
    "# This looks quite redundant, we have already been using them by writing\n",
    "x = 10\n",
    "print(\"implicit X\", type(x))\n",
    "# the explicitness is useful if you WANT an integer, but somebody gives you something else\n",
    "# e.g. a decimal number\n",
    "x = 1.2\n",
    "print(\"X is not an int\", type(x))\n",
    "y = int(x)\n",
    "print(\"but Y is\", type(y)) "
   ]
  },
  {
   "cell_type": "markdown",
   "metadata": {},
   "source": [
    "**Float numbers** These are numbers with decimal points. Easy as that. They behave essentially like `int`."
   ]
  },
  {
   "cell_type": "code",
   "execution_count": null,
   "metadata": {},
   "outputs": [],
   "source": [
    "# Explicitly create one\n",
    "x = float(10.5)\n",
    "print(\"explicit X\", type(x))\n",
    "# Implicitly do the same\n",
    "x = 10.5\n",
    "print(\"implicit X\", type(x))\n",
    "# Conversion\n",
    "x = 10\n",
    "print(\"X is not a float\", type(x))\n",
    "y = float(x)\n",
    "print(\"but Y is\", type(y))"
   ]
  },
  {
   "cell_type": "markdown",
   "metadata": {},
   "source": [
    "**Strings** Sequences of text. Note that these support Unicode, so you can have symbols and non-latin characters in there."
   ]
  },
  {
   "cell_type": "code",
   "execution_count": null,
   "metadata": {},
   "outputs": [],
   "source": [
    "# Explicitly create one\n",
    "x = str(\"I am a string!\")\n",
    "print(\"explicit string\", type(x))\n",
    "\n",
    "# Implicitly, we have been doing this for a long time now\n",
    "x = \"I am another string\"\n",
    "print(\"implicit string\", type(x))\n",
    "\n",
    "# Conversions are fun\n",
    "string_number = str(10)\n",
    "print(\"str(10) gives out a string\", type(string_number))\n",
    "number_string = int(\"10\")\n",
    "print(\"int('10') gives out a number\", type(number_string))"
   ]
  },
  {
   "cell_type": "code",
   "execution_count": null,
   "metadata": {},
   "outputs": [],
   "source": [
    "# But beware\n",
    "what_now = int(\"definitely not a number\")"
   ]
  },
  {
   "cell_type": "markdown",
   "metadata": {},
   "source": [
    "Sometimes you have to use the character **\"** in a string, to do so, you _escape_ it by prepending it with a `\\`, as in `\"my fancy string with \\\" quote\"`"
   ]
  },
  {
   "cell_type": "markdown",
   "metadata": {},
   "source": [
    "**Collections** Collections are containers of other things. There are 4 types of collection in python: tuples, lists, dictionaries and sets."
   ]
  },
  {
   "cell_type": "markdown",
   "metadata": {},
   "source": [
    "## Collections\n",
    "Collections are data types that contain other objects (including other collections). Here we introduce the basic built-in Python collections; however, may other container types exist both in the Python standard library and in third-party libraries.\n",
    "\n",
    "It is useful to distinguish collections based on two different properties:\n",
    "- Mutable or immutable? -- Can I add or remove elements from my collection?\n",
    "- Ordered or unordered? -- Do the elements have a \"comes before\" relationship? The items in a shopping list are ordered, however beads in a bag are not."
   ]
  },
  {
   "cell_type": "markdown",
   "metadata": {},
   "source": [
    "### Tuple\n",
    "A **tuple** is a sequence of objects that is ordered and immutable. It retains the order of the elements; however, once created, you can inspect it or copy it, but never change its contents."
   ]
  },
  {
   "cell_type": "code",
   "execution_count": null,
   "metadata": {
    "scrolled": true
   },
   "outputs": [],
   "source": [
    "# A tuple is created by enclosing a list of things in parentheses (,)\n",
    "t = (1, 2, \"hello tuple\")\n",
    "print(\"My tuple\", t)\n",
    "# Note that you need a comma ',' for a tuple with just one item.\n",
    "# If you omit it you get the result of the operation between parentheses as a value,\n",
    "# as the parentheses are used to enforce precedence between operators.\n",
    "single_item = (1,)\n",
    "# This is just the number '1', the parenteses work the same as for arithmetic operations.\n",
    "not_a_tuple = (1)\n",
    "# Or from another already existing sequence of items\n",
    "t2 = tuple(t)\n",
    "print(\"Copy of my tuple\", t2)\n",
    "\n",
    "# You can access elements by index\n",
    "print(\"first element:\", t[0])\n",
    "print(\"second element:\", t[1])\n",
    "\n",
    "# You can concatenate tuples, this produces a NEW tuple.\n",
    "a = (1, 2, 3)\n",
    "b = (4, 5, 6)\n",
    "c = a + b\n",
    "print(\"concatenated tuple:\", a, \"+\", b, \"=\", c)"
   ]
  },
  {
   "cell_type": "code",
   "execution_count": null,
   "metadata": {},
   "outputs": [],
   "source": [
    "# But you can't change the element\n",
    "t[0] = 100\n",
    "# TypeError!"
   ]
  },
  {
   "cell_type": "markdown",
   "metadata": {},
   "source": [
    "### List\n",
    "A **list** is a sequence of objects that is ordered and mutable. You can add and remove elements from it, and it retains the order of the elements."
   ]
  },
  {
   "cell_type": "code",
   "execution_count": null,
   "metadata": {},
   "outputs": [],
   "source": [
    "# A list is created in the same way as a tuple, just by using square braces [,]\n",
    "l = [1, 2, \"hello list\"]\n",
    "single_item = [1]\n",
    "print(l)\n",
    "# Or from another existing sequence\n",
    "l2 = list(l)\n",
    "print(l2)\n",
    "l3 = list((1, 2, \"I am created from a tuple\"))\n",
    "print(l3)"
   ]
  },
  {
   "cell_type": "markdown",
   "metadata": {},
   "source": [
    "Indexing and concatenation work as the tuple, however there are some questions for you here. I encourage you to try out the questions below, thinking about what you would expect to happen."
   ]
  },
  {
   "cell_type": "code",
   "execution_count": null,
   "metadata": {},
   "outputs": [],
   "source": [
    "# What happens if you index an element that does not exist?\n",
    "# x = [1,2,3]\n",
    "# print(x[10])\n",
    "\n",
    "# What happens if you assign a value to a position that does not exist?\n",
    "# x[10] = 11\n",
    "\n",
    "# Use the help(list) to find the description of the append(), insert(), pop() and remove() functions and use them to modify the list\n",
    "# x = [1, 2, 3, 4, 5, 6]\n",
    "# into the list\n",
    "# x = [\"a\", 2, 3, \"b\", 5, \"c\"]"
   ]
  },
  {
   "cell_type": "markdown",
   "metadata": {},
   "source": [
    "### Dictionary\n",
    "A **dictionary** is an ordered and mutable collection that is indexed by an (almost) arbitrary key instead of a number. You can think of it as a list that allows to assign labels to the elements."
   ]
  },
  {
   "cell_type": "code",
   "execution_count": null,
   "metadata": {},
   "outputs": [],
   "source": [
    "# A dictionary is created in a similar way, using curly braces {,}\n",
    "# This time though, we label each item. The easiest way is to use an unique string or number\n",
    "d = {\"element 1\": 1, \"element 2\": 2, \"element 3\": \"I am item #3\"}\n",
    "print(d)\n",
    "# or from another dictionary\n",
    "d1 = dict(d)\n",
    "print(d1)"
   ]
  },
  {
   "cell_type": "code",
   "execution_count": null,
   "metadata": {},
   "outputs": [],
   "source": [
    "# But not so easily from a list or tuple\n",
    "d = dict([\"a\", \"b\", \"c\"])\n",
    "# which makes sense if you think about it, which part is the key and which the value?"
   ]
  },
  {
   "cell_type": "code",
   "execution_count": null,
   "metadata": {},
   "outputs": [],
   "source": [
    "# however we can do that if we use tuples as key/value pairs\n",
    "d = dict([(\"a\", 1), (\"b\", 2), (\"c\", 3)])\n",
    "print(d)"
   ]
  },
  {
   "cell_type": "code",
   "execution_count": null,
   "metadata": {},
   "outputs": [],
   "source": [
    "# Indexing is similar to lists and tuples, but you use your own keys\n",
    "print(\"My first element is:\", d[\"element 1\"])\n",
    "\n",
    "# Note that it is possible to assing values to labels that do not exist!\n",
    "d[\"new thing\"] = \"something new\""
   ]
  },
  {
   "cell_type": "markdown",
   "metadata": {},
   "source": [
    "There are various ways to add and remove elements from a dictionary. It will be more useful to learn by example than having a big list here."
   ]
  },
  {
   "cell_type": "markdown",
   "metadata": {},
   "source": [
    "### Set\n",
    "A **set** is an unordered mutable collection. It is possible to add and remove elements, however they don't have an index and there is no ordering relationship between them. The set has the additional property that each element may appear only once."
   ]
  },
  {
   "cell_type": "code",
   "execution_count": null,
   "metadata": {},
   "outputs": [],
   "source": [
    "# A set is created using curly braces, without the dictionary labels notation\n",
    "s = {\"a\", \"b\", \"c\"}\n",
    "print(\"my set:\", s)\n",
    "# or from another collection, note that the number 4 will only appear once.\n",
    "s2 = set([1, 2, 3, 4, 4, 4, 4])\n",
    "print(\"my other set:\", s2)"
   ]
  },
  {
   "cell_type": "markdown",
   "metadata": {},
   "source": [
    "As with the dictionary, it will be more useful to learn sets by using them."
   ]
  },
  {
   "cell_type": "markdown",
   "metadata": {},
   "source": [
    "### Common collection operations\n",
    "There are two very common operations that can be performed on all collections: checking the number of elements it holds, and iterating through the elements.\n",
    "The first is easily done using the built-in `len()` function, as in the following example."
   ]
  },
  {
   "cell_type": "code",
   "execution_count": null,
   "metadata": {},
   "outputs": [],
   "source": [
    "my_list = [1, 2, 3, 4]\n",
    "print(\"How many elements?\", len(my_list))"
   ]
  },
  {
   "cell_type": "markdown",
   "metadata": {},
   "source": [
    "All standard collections can be traversed, inspecting each element in turn. These containers are _iterable_ objects, which means you can get an iterator from. The _iterator_ is a special object associated to the collection that produces a countable sequence of elements from the collection. The _iterator_ gives you the ability to call the `next()` function to obtain the next element from the collection."
   ]
  },
  {
   "cell_type": "code",
   "execution_count": null,
   "metadata": {},
   "outputs": [],
   "source": [
    "list_iter = iter(my_list)\n",
    "print(\"first:\", next(list_iter))\n",
    "print(\"second:\", next(list_iter))\n",
    "print(\"third:\", next(list_iter))\n",
    "print(\"fourth:\", next(list_iter))\n",
    "# Calling next(list_iter) again will give a StopIteration error, which means that we have seen all\n",
    "# the elements in the collection, and the iterator is consumed.\n",
    "# print(\"??\", next(list_iter))"
   ]
  },
  {
   "cell_type": "markdown",
   "metadata": {},
   "source": [
    "While iterators are the base building block to traverse collections of things, it is cumbersome to always call `next()` on things and checking for errors.\n",
    "There are other, more conveninent, ways to iterate over collections, one of which is using a `for` loop.\n",
    "You can take any _iterable_ object and use it in a loop to inspect every element it contains."
   ]
  },
  {
   "cell_type": "code",
   "execution_count": null,
   "metadata": {},
   "outputs": [],
   "source": [
    "my_list = [1, 2, 3, 4]\n",
    "\n",
    "for i in my_list:\n",
    "    print(\"Found:\", i)"
   ]
  },
  {
   "cell_type": "markdown",
   "metadata": {},
   "source": [
    "This is probably the right time to mention the `enumerate()` built-in function. This function accepts an iterator as an argument, and returns a new iterator that produces tuples of the form `(incremental number, value)`. Now you see one of the useful properties of iterators, you can pass them around and derive new iterators that transform the data in a certain way."
   ]
  },
  {
   "cell_type": "code",
   "execution_count": null,
   "metadata": {},
   "outputs": [],
   "source": [
    "for index_and_value in enumerate(my_list):\n",
    "    print(\"At\", index_and_value[0], \"found\", index_and_value[1])"
   ]
  },
  {
   "cell_type": "markdown",
   "metadata": {},
   "source": [
    "Finally, there is another trick that will make your life easier, it is called **tuple unpacking**. You may have observed in the previous example that accessing tuple elements from `enumerate()` is a bit verbose.\n",
    "\n",
    "Wouldn't it be nicer if we wrote something like this?\n",
    "```\n",
    "for index_and_value in enumerate(my_list):\n",
    "    index = index_and_value[0]\n",
    "    value = index_and_value[1]\n",
    "    print(...)\n",
    "```\n",
    "\n",
    "Right, this helps if you have to use `index` and `value` multiple times in the loop, but we can do better thanks to tuple unpacking!\n",
    "Unpacking refers to the fact that you split up the tuple (the package) into its contents."
   ]
  },
  {
   "cell_type": "code",
   "execution_count": null,
   "metadata": {},
   "outputs": [],
   "source": [
    "my_tuple = (1, 2, 3)\n",
    "(one, two, three) = my_tuple\n",
    "# In fact we can also omit the parentheses\n",
    "# one, two, three = my_tuple\n",
    "print(\"one\", one, \"two\", two, \"three\", three)"
   ]
  },
  {
   "cell_type": "code",
   "execution_count": null,
   "metadata": {},
   "outputs": [],
   "source": [
    "# Exercise what happens if you get the number of elements wrong?\n",
    "t = (1, 2, 3, 4)\n",
    "# Too few elements\n",
    "# a, b, c = t\n",
    "# Too many elements\n",
    "# a, b, c, d, e = t\n",
    "\n",
    "# Try it out!"
   ]
  },
  {
   "cell_type": "markdown",
   "metadata": {},
   "source": [
    "With this in mind, we can re-rwite our loop in a more concise and readable form:"
   ]
  },
  {
   "cell_type": "code",
   "execution_count": null,
   "metadata": {},
   "outputs": [],
   "source": [
    "for index, value in enumerate(my_list):\n",
    "    print(\"At\", index, \"found\", value)"
   ]
  },
  {
   "cell_type": "markdown",
   "metadata": {},
   "source": [
    "### Weridness about mutability\n",
    "We talked about mutable and immutable collections, and how it is possible to have nested collections. So I ask you: what happens if I have a tuple of lists? Lists are mutable and tuples are immutable, so will I be able to append a number to one of my lists?"
   ]
  },
  {
   "cell_type": "code",
   "execution_count": null,
   "metadata": {},
   "outputs": [],
   "source": [
    "# Exercise - What appens if I have tuple of lists? Can I append elements to a list within a tuple?\n",
    "\n",
    "# A tuple with three empty lists\n",
    "t = ([], [], [])\n",
    "\n",
    "# What appens if I append an element to the first list?\n",
    "# Try it out! (Hint, remember indexing and the list append() function)"
   ]
  },
  {
   "cell_type": "markdown",
   "metadata": {},
   "source": [
    "I hear you say \"I thought tuples were _immutable_! You lied to me!\". So what is going on?\n",
    "This is a perfect opportunity to understand the difference between an object and a reference to an object. This is a bit subtle in Python, so bear with me.\n",
    "\n",
    "Until now, we have seen that you can assign a \"label\" to your objects by assigning them to variables. Consider a simple variable assignment:\n",
    "```\n",
    "x = 10\n",
    "```\n",
    "You can think of this as `x` containing the value 10, or `x` being a label for something that has the value 10.\n",
    "While this difference is subtle for a number, consider another example with a list."
   ]
  },
  {
   "cell_type": "code",
   "execution_count": 50,
   "metadata": {},
   "outputs": [
    {
     "name": "stdout",
     "output_type": "stream",
     "text": [
      "[1, 2, 99]\n"
     ]
    }
   ],
   "source": [
    "x = [1, 2]\n",
    "y = x\n",
    "# It is true that 'y' contains a list with the values 1 and 2, however it is the SAME list!\n",
    "x.append(99)\n",
    "print(y)"
   ]
  },
  {
   "cell_type": "markdown",
   "metadata": {},
   "source": [
    "So, if you think in terms of labels, the above is easily explained by the fact that you are using two different _names_ for the same object (the list). We say that a label _references_ an object, because it gives you a way to reach the object.\n",
    "We can go a step further now, if we consider that the same is true for the numbers inside the list: the list really contains _references_ to objects.\n",
    "\n",
    "Consider the following simple list-of-lists."
   ]
  },
  {
   "cell_type": "code",
   "execution_count": 51,
   "metadata": {},
   "outputs": [
    {
     "name": "stdout",
     "output_type": "stream",
     "text": [
      "[[1, 2, 99], [3, 4]]\n"
     ]
    }
   ],
   "source": [
    "x = [[1, 2], [3, 4]]\n",
    "# Now we take the first element of the list\n",
    "y = x[0]\n",
    "# Note that y is the name we give to a reference to the list contained in x[0]\n",
    "# so when we append to it\n",
    "y.append(99)\n",
    "# we also see it changing inside x\n",
    "print(x)"
   ]
  },
  {
   "cell_type": "markdown",
   "metadata": {},
   "source": [
    "This may seem conter-intuitive, but it is also quite useful because this means that you can give a collection to a function and have something done to it without ever copying the collection, which may be expensive.\n",
    "\n",
    "Now, back to the tuple problem. If we think in terms of _references_, the immutability of the tuple means that you can not add or remove _references_ to the tuple, or modify one entry in the tuple to _reference_ another object. It does not say anything about the immutability of the **referenced** objects!"
   ]
  },
  {
   "cell_type": "code",
   "execution_count": 54,
   "metadata": {},
   "outputs": [
    {
     "name": "stdout",
     "output_type": "stream",
     "text": [
      "([1, 2, 99], [3, 4])\n"
     ]
    }
   ],
   "source": [
    "x = ([1, 2], [3, 4])\n",
    "# x is immutable, I can not replace the reference in the first element\n",
    "# x[0] = [99, 100]\n",
    "y = x[0]\n",
    "# y, however, is a list, and it is perfectly legal to modify it\n",
    "y.append(99)\n",
    "print(x)"
   ]
  },
  {
   "cell_type": "markdown",
   "metadata": {},
   "source": [
    "Now you may be asking \"what about when I want to actually copy things?\". Python makes the copy operation explicit, because it may be complicated, expensive or outright impossible in some cases.\n",
    "The collections above can be copied, however remember that you will copy _references_ to something, so if you want a complete copy of the collection and its contents, you will also have to copy the individual objects!"
   ]
  },
  {
   "cell_type": "code",
   "execution_count": null,
   "metadata": {},
   "outputs": [],
   "source": [
    "x = [1, 2, 3, [99, 100]]\n",
    "# There are generally two ways of copying collections\n",
    "# One is to create a new collection from an iterable object (such as another collection)\n",
    "copy_of_x = list(x)\n",
    "# Another is to use the copy() function, which should be provided by anything that allows to be copied.\n",
    "another_copy = x.copy()\n",
    "print(\"Simple copies\", x, copy_of_x)\n",
    "\n",
    "# Now if I append to the original list\n",
    "x.append(\"xxx\")\n",
    "# It will not modify the copies\n",
    "print(\"Append to the outer list\", x, copy_of_x)\n",
    "\n",
    "# HOWEVER, if I append to the inner list, things are different\n",
    "x[3].append(\"yyy\")\n",
    "print(\"Append to the inner list\", x, copy_of_x)"
   ]
  },
  {
   "cell_type": "markdown",
   "metadata": {},
   "source": [
    "It is possible to copy recursively all objects within a collection, this is called a _deep copy_, in contrast with _shallow copies_ that we have seen so far. The simplest way to create _deep copies_ is to use the `copy` module from the standard library, which contains the `deepcopy()` function."
   ]
  },
  {
   "cell_type": "markdown",
   "metadata": {},
   "source": [
    "## Conditional expressions\n",
    "Now the last basic building block you need to know is how to do things conditionally and repeat tasks.\n",
    "We essentially want to create a branch of code that is executed one or more times, when a specific condition is met.\n",
    "\n",
    "### Indentation #2\n",
    "Before I anticipated that indentation makes a difference we will see this in action here.\n",
    "Indentation is, very generally speaking, used to create blocks of code that are logically separate the rest. This is very intuitive when seen in action so let's dig into it.\n",
    "\n",
    "**Conditional execution** Do something if some condition is met.\n",
    "This is done using the `if`, `elif` and `else` keywords."
   ]
  },
  {
   "cell_type": "code",
   "execution_count": null,
   "metadata": {},
   "outputs": [],
   "source": [
    "# Try changing the value of X to see which branch of code is executed\n",
    "x = 10\n",
    "if x == 50:\n",
    "    # If x is exactly 50\n",
    "    print(\"x is exactly 50\")\n",
    "elif x > 50:\n",
    "    # otherwise, check if x is larger than 50\n",
    "    print(\"x is large\")\n",
    "else:\n",
    "    # if none of the above, do this\n",
    "    print(\"x is small\")"
   ]
  },
  {
   "cell_type": "code",
   "execution_count": null,
   "metadata": {},
   "outputs": [],
   "source": [
    "# It is possible to have more complex conditions\n",
    "food = \"biscuit\"\n",
    "drink = \"juice\"\n",
    "if food == \"chocolate\" or drink == \"milk\":\n",
    "    print(\"I like food\")\n",
    "else:\n",
    "    print(\"I do not like food\")\n",
    "    \n",
    "if (food == \"biscuit\" or food == \"cake\") and drink == \"milk\":\n",
    "    print(\"I am hungry\")\n",
    "else:\n",
    "    print(\"Not really hungry\")"
   ]
  },
  {
   "cell_type": "markdown",
   "metadata": {},
   "source": [
    "**Loops** Loops are a way to run a piece of code while/until a condition is met.\n",
    "This is done using the `for...in` and `while` keywords."
   ]
  },
  {
   "cell_type": "code",
   "execution_count": null,
   "metadata": {},
   "outputs": [],
   "source": [
    "# Do something until a condition is met\n",
    "x = 0\n",
    "while x < 10:\n",
    "    x = x + 1\n",
    "    print(\"increment x to\", x)"
   ]
  },
  {
   "cell_type": "code",
   "execution_count": null,
   "metadata": {},
   "outputs": [],
   "source": [
    "# Do something for each item in a collection (e.g. a list)\n",
    "my_list = [1, 10, 35, 40]\n",
    "for element in my_list:\n",
    "    print(\"my_list contains\", element)"
   ]
  },
  {
   "cell_type": "markdown",
   "metadata": {},
   "source": [
    "The built-in `range()` function is also useful to repeat some task a number of times."
   ]
  },
  {
   "cell_type": "code",
   "execution_count": null,
   "metadata": {},
   "outputs": [],
   "source": [
    "for i in range(10):\n",
    "    print(i)"
   ]
  },
  {
   "cell_type": "markdown",
   "metadata": {},
   "source": [
    "Sometimes you need to stop a loop early, because some condition requires it; this can be done using the `break` keyword. Similarly, sometimes you want to skip to the next loop iteration; this is what the `continue` keyword is for."
   ]
  },
  {
   "cell_type": "code",
   "execution_count": null,
   "metadata": {},
   "outputs": [],
   "source": [
    "for i in range(10):\n",
    "    if i == 2:\n",
    "        continue\n",
    "    print(i)\n",
    "    if i == 5:\n",
    "        break"
   ]
  },
  {
   "cell_type": "markdown",
   "metadata": {},
   "source": [
    "## Functions\n",
    "Functions are the way we describe operations that can be invoked by other parts of the program. Functions may be associated with an _object_, or exist as \"global\" functions.\n",
    "Examples of global functions we have seen are the built-in `len()` and `enumerate()` functions. Functions that are associated with an object are generally called _methods_, and we have seen examples of these when dealing with collections, for instance the list `append()` method.\n",
    "\n",
    "You may want to create a new function to avoid repeating the same code in multiple parts of your program, or to split a complicated task into multiple sub-tasks that are simpler to reason about and easier to understand. The CSV example above does the latter thing, here I split the code into multiple functions to split sub-tasks and hopefully make the code easier to follow.\n",
    "\n",
    "A function in its basic form has 4 components:\n",
    "1. A **name** (which is really a variable in disguise, referencing the actual function _object_)\n",
    "2. A list of **parameters**, that are the names of the arguments that the caller will send to the function to do its job\n",
    "3. A **return value**, which is to say the result of the function\n",
    "4. The **body**, the actual code that describes what the function is supposed to do"
   ]
  },
  {
   "cell_type": "code",
   "execution_count": null,
   "metadata": {},
   "outputs": [],
   "source": [
    "# Anatomy of a function definition\n",
    "# def <function_name>(<parameter-1>, <parameter-2>, ... <parameter-N>):\n",
    "#     return <return value>\n",
    "def my_function_name(param_1, param_2):\n",
    "    # body, do something here!\n",
    "    return True\n",
    "\n",
    "# Anatomy of a function call\n",
    "# returned_value = <function_name>(<argument-1>, <argument-2>, ... <argument-N>)\n",
    "result = my_function_name(\"val1\", \"val2\")"
   ]
  },
  {
   "cell_type": "markdown",
   "metadata": {},
   "source": [
    "When a function is called, the parameter names in the definition are substituted by (or more precisely, bound to) the _objects_ passed as the function call arguments, in order.\n",
    "The function then operates on them (possibly modifying them) and optionally return a result."
   ]
  },
  {
   "cell_type": "code",
   "execution_count": null,
   "metadata": {},
   "outputs": [],
   "source": [
    "def example_add(a, b):\n",
    "    return a + b\n",
    "\n",
    "print(example_add(10, 30))"
   ]
  },
  {
   "cell_type": "code",
   "execution_count": null,
   "metadata": {},
   "outputs": [],
   "source": [
    "def example_return_none():\n",
    "    print(\"I do not return any value\")\n",
    "\n",
    "# Note that this will return the None value.\n",
    "# This represents the absence of a return value, and has a special type, as I previously mentioned.\n",
    "print(example_return_none())\n"
   ]
  },
  {
   "cell_type": "code",
   "execution_count": null,
   "metadata": {},
   "outputs": [],
   "source": [
    "def write_message(msg):\n",
    "    print(\"A message:\", msg)\n",
    "    \n",
    "write_message(\"Hello\")\n",
    "write_message(\"The value of msg changes\")\n",
    "write_message(\"For each call\")"
   ]
  },
  {
   "cell_type": "markdown",
   "metadata": {},
   "source": [
    "Remember multi-line comments with `\"\"\"...\"\"\"`? They can be used in functions just below the `def` line, to describe what the function does. This text is displayed by the `help()` function so it is quite useful."
   ]
  },
  {
   "cell_type": "code",
   "execution_count": null,
   "metadata": {},
   "outputs": [],
   "source": [
    "def do_stuff():\n",
    "    \"\"\"\n",
    "    A function that does stuff!\n",
    "    I can be displayed using help()!\n",
    "    \"\"\"\n",
    "    pass\n",
    "\n",
    "help(do_stuff)"
   ]
  },
  {
   "cell_type": "markdown",
   "metadata": {},
   "source": [
    "### Keyword arguments (named parameters)\n",
    "So far, we have seen functions that use regular _positional_ arguments, which just means that arguments all mandatory and are mapped in-order to the parameters of the function."
   ]
  },
  {
   "cell_type": "code",
   "execution_count": 74,
   "metadata": {},
   "outputs": [
    {
     "name": "stdout",
     "output_type": "stream",
     "text": [
      "1 2 3\n"
     ]
    }
   ],
   "source": [
    "def example(a, b, c):\n",
    "    print(a, b, c)\n",
    "\n",
    "# Here we set a=1, b=2, c=3\n",
    "example(1, 2, 3)\n",
    "# and you can not call the function with 2 arguments only e.g.\n",
    "# example(1, 2)  # this is an error!"
   ]
  },
  {
   "cell_type": "markdown",
   "metadata": {},
   "source": [
    "In reality, Python doesn't really require you to rely on the position of the arguments. You can reference them by name, as in the example below, these are called _keyword_ arguments. However, to avoid confusion, mandatory arguments are generally always passed to the function as _positional_ arguments. This makes the function calls more concise for those arguments that must always be present."
   ]
  },
  {
   "cell_type": "code",
   "execution_count": 75,
   "metadata": {},
   "outputs": [
    {
     "name": "stdout",
     "output_type": "stream",
     "text": [
      "2 3 1\n"
     ]
    }
   ],
   "source": [
    "def example(a, b, c):\n",
    "    print(a, b, c)\n",
    "\n",
    "# Explicitly set the arguments by name\n",
    "example(c=1, a=2, b=3)"
   ]
  },
  {
   "cell_type": "markdown",
   "metadata": {},
   "source": [
    "However, a function can also have _optional_ parameters, that have a default value and may be omitted from the function call. Recall the dictionary `get()` function as an example."
   ]
  },
  {
   "cell_type": "code",
   "execution_count": 79,
   "metadata": {},
   "outputs": [
    {
     "name": "stdout",
     "output_type": "stream",
     "text": [
      "1 2 3\n",
      "1 2 Default value for C\n",
      "1 2 Default value for C\n",
      "1 2 3\n"
     ]
    }
   ],
   "source": [
    "def example(a, b, c=\"Default value for C\"):\n",
    "    print(a, b, c)\n",
    "\n",
    "# This is valid, use the positional arguments for all three arguments\n",
    "example(1, 2, 3)\n",
    "# This is also valid, use the positional arguments for just the two mandatory parameters\n",
    "example(1, 2)\n",
    "# As before you can specify the names of the arguments, although it is generally discouraged\n",
    "example(b=2, a=1)\n",
    "# Naming arguments for default parameters is OK though\n",
    "example(1, 2, c=3)"
   ]
  },
  {
   "cell_type": "code",
   "execution_count": null,
   "metadata": {},
   "outputs": [],
   "source": [
    "# However you can not have required positional arguments after a default one\n",
    "def example(a, b=\"Default\", c):\n",
    "    pass"
   ]
  },
  {
   "cell_type": "markdown",
   "metadata": {},
   "source": [
    "It is possible to have multiple _optional_ parameters, therefore it is OK to use _keyword_ arguments for these. Suppose you want to set parameter `c` but leave `b` as the default value, you simply can not do that without explicitly using a keyword argument."
   ]
  },
  {
   "cell_type": "code",
   "execution_count": null,
   "metadata": {},
   "outputs": [],
   "source": [
    "def example(a, b=None, c=\"Default C\"):\n",
    "    print(a, b, c)\n",
    "\n",
    "example(1, c=\"Keyword argument C\")"
   ]
  },
  {
   "cell_type": "markdown",
   "metadata": {},
   "source": [
    "Finally, you can have variable numbers of both positional and keyword parameters. Recall the `print()` function, you can pass however many strings you like to print out! So how does it do that?\n",
    "\n",
    "If you run `help(print)`, you will notice that the function definition is `print(*args, sep=' ', end='\\n', file=None, flush=False)`. We now know optional parameters, but what is that `*args` thingy? As you may have guessed, the `*` tells Python to collect all positional arguments into a tuple and place it in the parameter named `args`.\n",
    "\n",
    "The name _args_ for variable number of arguments is a conventional name that is used for the parameter that groups positional arguments."
   ]
  },
  {
   "cell_type": "code",
   "execution_count": 83,
   "metadata": {},
   "outputs": [
    {
     "name": "stdout",
     "output_type": "stream",
     "text": [
      "Help on built-in function print in module builtins:\n",
      "\n",
      "print(*args, sep=' ', end='\\n', file=None, flush=False)\n",
      "    Prints the values to a stream, or to sys.stdout by default.\n",
      "    \n",
      "    sep\n",
      "      string inserted between values, default a space.\n",
      "    end\n",
      "      string appended after the last value, default a newline.\n",
      "    file\n",
      "      a file-like object (stream); defaults to the current sys.stdout.\n",
      "    flush\n",
      "      whether to forcibly flush the stream.\n",
      "\n",
      "args is a <class 'tuple'> and contains (1, 2, 3)\n",
      "args is a <class 'tuple'> and contains ('a', 'b', 'c')\n"
     ]
    }
   ],
   "source": [
    "help(print)\n",
    "\n",
    "def example(*args):\n",
    "    print(\"args is a\", type(args), \"and contains\", args)\n",
    "\n",
    "example(1, 2, 3)\n",
    "example(\"a\", \"b\", \"c\")"
   ]
  },
  {
   "cell_type": "markdown",
   "metadata": {},
   "source": [
    "Note that this also works in the reverse direction. Suppose you have a tuple containing some values and you want to call a function using the tuple values as the positional arguments. You can use the `*` notation in the function call."
   ]
  },
  {
   "cell_type": "code",
   "execution_count": null,
   "metadata": {},
   "outputs": [],
   "source": [
    "def regular_function(a, b, c):\n",
    "    print(a, b, c)\n",
    "\n",
    "my_args = (1, 2, 3)\n",
    "regular_function(*my_args)"
   ]
  },
  {
   "cell_type": "markdown",
   "metadata": {},
   "source": [
    "Finally, you can do the same for keyword arguments, this time using the `**` notation. As before, the `**kwargs` name is the conventional way to name the parameter that groups the keyword arguments. You will notice that keyword arguments are collected as a dictionary and you can broadcast a dictionary as keyword arguments."
   ]
  },
  {
   "cell_type": "code",
   "execution_count": 85,
   "metadata": {},
   "outputs": [
    {
     "name": "stdout",
     "output_type": "stream",
     "text": [
      "kwargs is a <class 'dict'> and contains {'some': 1, 'random': 2, 'names': 3}\n"
     ]
    }
   ],
   "source": [
    "def example(**kwargs):\n",
    "    print(\"kwargs is a\", type(kwargs), \"and contains\", kwargs)\n",
    "\n",
    "example(some=1, random=2, names=3)"
   ]
  },
  {
   "cell_type": "code",
   "execution_count": null,
   "metadata": {},
   "outputs": [],
   "source": [
    "def example(a, b, c):\n",
    "    print(a, b, c)\n",
    "\n",
    "my_kwargs = {\"a\": 1, \"b\": 2, \"c\": 3}\n",
    "example(**my_kwargs)"
   ]
  },
  {
   "cell_type": "markdown",
   "metadata": {},
   "source": [
    "## Teatime Break!!\n",
    "If you reached this point, you should take a break, brew some tea and relax. We are done with the boring basics. Next section will be more interactive, I promise."
   ]
  }
 ],
 "metadata": {
  "kernelspec": {
   "display_name": "Python 3 (ipykernel)",
   "language": "python",
   "name": "python3"
  },
  "language_info": {
   "codemirror_mode": {
    "name": "ipython",
    "version": 3
   },
   "file_extension": ".py",
   "mimetype": "text/x-python",
   "name": "python",
   "nbconvert_exporter": "python",
   "pygments_lexer": "ipython3",
   "version": "3.11.6"
  }
 },
 "nbformat": 4,
 "nbformat_minor": 4
}
