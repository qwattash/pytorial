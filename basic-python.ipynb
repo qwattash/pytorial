{
 "cells": [
  {
   "cell_type": "markdown",
   "metadata": {},
   "source": [
    "# Very Basic Python\n",
    "\n",
    "This section introduces the very basic language ideas and constructions, with a few exampls. If you have basic familiarity with programming, you can [skip](less-basic-python.ipynb) the introduction.\n",
    "\n",
    "## help!\n",
    "You can (almost) always ask for help. This is especially useful in an interactive environment. If you run `help()` with a python function or other object, you will get some helpful insight on how it should be used."
   ]
  },
  {
   "cell_type": "code",
   "execution_count": null,
   "metadata": {},
   "outputs": [],
   "source": [
    "help(print)"
   ]
  },
  {
   "cell_type": "code",
   "execution_count": null,
   "metadata": {},
   "outputs": [],
   "source": [
    "help(int)"
   ]
  },
  {
   "cell_type": "markdown",
   "metadata": {},
   "source": [
    "## Comments #1\n",
    "Plain text after a `#` is called a _comment_ and is ignored by Python. It is useful to the programmer to annotate what the heck is going on in the code. I will use them profusely, and you should too until you are comfortable enough with your writing that you need only more intricate pieces of code.\n",
    "A good guideline is:\n",
    "- While learning, annotate as much as you want\n",
    "- When writing things that you expect to come back and look at in a few months, remember to annotate things otherwise you will forget why you did something\n",
    "- When writing code that will be shared: that's why there is a part #2 to this.\n",
    "\n",
    "Multi-line comments are done using triple quotes `\"\"\"...\"\"\"`, this is most commonly used to annotate functions with text."
   ]
  },
  {
   "cell_type": "markdown",
   "metadata": {},
   "source": [
    "## Printing out stuff\n",
    "Printing out things is probably the first thing you learn in every language. In Python this is done using the built-in `print()` function. You can print almost everything, from integers, to strings and more complex data types."
   ]
  },
  {
   "cell_type": "code",
   "execution_count": null,
   "metadata": {},
   "outputs": [],
   "source": [
    "# a number\n",
    "print(10)\n",
    "# a string of text\n",
    "print(\"some text\")\n",
    "# a python function\n",
    "print(print)\n",
    "# multiple things\n",
    "print(10, 20, \"more things\")"
   ]
  },
  {
   "cell_type": "markdown",
   "metadata": {},
   "source": [
    "## Errors #1\n",
    "This is very early in the list because, if you are a beginner, you may or may not get scared of errors and forget to read what it says before going back to find what is wrong.\n",
    "Errors are the most common thing you will get out of writing programs, so better get used to them early on.\n",
    "\n",
    "This is an error:"
   ]
  },
  {
   "cell_type": "code",
   "execution_count": null,
   "metadata": {},
   "outputs": [],
   "source": [
    "print(1 / 0)"
   ]
  },
  {
   "cell_type": "markdown",
   "metadata": {},
   "source": [
    "Some of the output will be confusing at this stage, and that is fine, you will learn all about it in due time. For now just be aware that even with very little knowledge you can extract useful information of what is going wrong. In this case you are dividing something by zero, and python is telling you the line of code where this is happening.\n",
    "\n",
    "I challenge you to generate more errors by doing whatever you can think of below:"
   ]
  },
  {
   "cell_type": "code",
   "execution_count": null,
   "metadata": {},
   "outputs": [],
   "source": [
    "################################# EXPERIMENT #################################\n",
    "# Give me your best errors!\n"
   ]
  },
  {
   "cell_type": "markdown",
   "metadata": {},
   "source": [
    "## Indentation #1\n",
    "A very quick note about indentation. Indentation in Python matters, indented code is treated as a separate block of code, this will be clarified below, for now just appreciate the fact that everything in the early examples is not indented at all."
   ]
  },
  {
   "cell_type": "markdown",
   "metadata": {},
   "source": [
    "## Operators\n",
    "You can perform basic arithmetic operations:"
   ]
  },
  {
   "cell_type": "code",
   "execution_count": null,
   "metadata": {},
   "outputs": [],
   "source": [
    "# Number arithmetic\n",
    "print(\"add\", 1 + 1)\n",
    "print(\"subtract\", 2 - 10)\n",
    "print(\"multiply\", 10 * 2)\n",
    "print(\"divide\", 10 / 5)\n",
    "print(\"remainder\", 10 % 3)\n",
    "print(\"exponentiation\", 10**2)\n",
    "# with decimal points\n",
    "print(\"floating point add\", 1.10 + 3.5)\n",
    "\n",
    "# Grouping can be done with parentheses\n",
    "print(\"grouping\", (1 + 1) * 4, \"vs\", 1 + 1 * 4)"
   ]
  },
  {
   "cell_type": "markdown",
   "metadata": {},
   "source": [
    "Some of the operators are reused (_overloaded_ is the technical jargon) for other data types as well, text for example:"
   ]
  },
  {
   "cell_type": "code",
   "execution_count": null,
   "metadata": {},
   "outputs": [],
   "source": [
    "# Adding text? concatenation!\n",
    "print(\"what\" + \"is\" + \"this\" + \"magic\" + \"you\" + \"speak\" + \"of?\")\n",
    "# note that this is concatenating the text but does not add any spaces, you have to do that yourself when you do need it."
   ]
  },
  {
   "cell_type": "code",
   "execution_count": null,
   "metadata": {},
   "outputs": [],
   "source": [
    "# Subtracting text does not make sense\n",
    "print(\"a\" - \"b\")"
   ]
  },
  {
   "cell_type": "markdown",
   "metadata": {},
   "source": [
    "## Naming things\n",
    "In order to perform any useful task you probably will to store temporary values, input data and output data somewhere, so that you can perform operations on them. You do this by assigning values to variables. You can think of variables as labels to assign to reference a piece of data you want to work with."
   ]
  },
  {
   "cell_type": "code",
   "execution_count": null,
   "metadata": {},
   "outputs": [],
   "source": [
    "# Basic example using variables `a` and `b`\n",
    "a = 10\n",
    "b = 20\n",
    "print(10 * 20)\n",
    "\n",
    "# Names can be long with some special character\n",
    "a_variable = 10\n",
    "print(a_variable)\n",
    "\n",
    "# Variables can be assigned any kind of data\n",
    "something = 10\n",
    "print(\"I am a number\", something)\n",
    "something = \"hello!\"\n",
    "print(\"I am text\", something)\n",
    "\n",
    "# Variable names can include numbers, but not at the beginning\n",
    "number1 = 1\n",
    "number2 = 2\n",
    "# 2number -> invalid"
   ]
  },
  {
   "cell_type": "markdown",
   "metadata": {},
   "source": [
    "## Types of data\n",
    "When you write programs, you will deal with multiple types of data, for example:\n",
    "- numbers\n",
    "- decimal numbers\n",
    "- text\n",
    "- lists of things\n",
    "- complex structures (e.g. a person identity is composed of text for the name, numbers for age and date of birth)\n",
    "\n",
    "In Python, at the core, everything you deal with is an _object_. The _object_ is a piece of information with some associated operations you can perform on it. The set of operations you can perform on the object and its properties describe its _type_ (or _class_).\n",
    "For example, the number 10 is an integral number, so it makes sense to say that the number 10 is a specific instance of the class of integral numbers, which describes all possible integers.\n",
    "We say that 10 is an _instance_ of the integer _class_.\n",
    "\n",
    "This has very important consequences on how the language is structured, so it is important to introduce the concept early on. We will progressively expand on the idea.\n",
    "For now the core ideas to recall informally are:\n",
    "- An _object_ is everything you can manipulate, generally it represents some data (e.g. a number).\n",
    "- A _variable_ is a label that you assign to objects to name and reference them in other operations\n",
    "- The _type_ or _class_ of an _object_ tells you _what_ your object is, and the _operations_ you can perform on it. \n",
    "For example, when I type `some_value = 10`, I create an object of type `int` with the value of 10, and give it the name `some_value`, so that I can refer to it later. The `int` type will define what I can do with it, for example the ability to use the four basic arithmetic operations with it.\n",
    "\n",
    "Python has built-in data types for most basic objects, and a way to build your own data types with custom behaviours (we will get to those later in the tutorial).\n",
    "Here we go through _what_ these data types represent, later we will learn how to use them.\n",
    "\n",
    "There is a built-in python function `type()` that will tell you the type of something. You can use this in conjunction with `help()` as well!\n",
    "For example the number 10 is an integer. In python the integer object is described by the `int` type."
   ]
  },
  {
   "cell_type": "code",
   "execution_count": null,
   "metadata": {},
   "outputs": [],
   "source": [
    "type(10)"
   ]
  },
  {
   "cell_type": "code",
   "execution_count": null,
   "metadata": {},
   "outputs": [],
   "source": [
    "help(10)"
   ]
  },
  {
   "cell_type": "markdown",
   "metadata": {},
   "source": [
    "Here is a quick showcase of basic Python types of objects. More will be introduced later on, as needed.\n",
    "\n",
    "**Integral numbers** Well, they are integral numbers."
   ]
  },
  {
   "cell_type": "code",
   "execution_count": null,
   "metadata": {},
   "outputs": [],
   "source": [
    "# Explicitly create them using the `int` type\n",
    "x = int(10)\n",
    "print(\"explicit X\", type(x))\n",
    "# This looks quite redundant, we have already been using them by writing\n",
    "x = 10\n",
    "print(\"implicit X\", type(x))\n",
    "# the explicitness is useful if you WANT an integer, but somebody gives you something else\n",
    "# e.g. a decimal number\n",
    "x = 1.2\n",
    "print(\"X is not an int\", type(x))\n",
    "y = int(x)\n",
    "print(\"but Y is\", type(y)) "
   ]
  },
  {
   "cell_type": "markdown",
   "metadata": {},
   "source": [
    "**Float numbers** These are numbers with decimal points. Easy as that. They behave essentially like `int`."
   ]
  },
  {
   "cell_type": "code",
   "execution_count": null,
   "metadata": {},
   "outputs": [],
   "source": [
    "# Explicitly create one\n",
    "x = float(10.5)\n",
    "print(\"explicit X\", type(x))\n",
    "# Implicitly do the same\n",
    "x = 10.5\n",
    "print(\"implicit X\", type(x))\n",
    "# Conversion\n",
    "x = 10\n",
    "print(\"X is not a float\", type(x))\n",
    "y = float(x)\n",
    "print(\"but Y is\", type(y))"
   ]
  },
  {
   "cell_type": "markdown",
   "metadata": {},
   "source": [
    "**Strings** Sequences of text. Note that these support Unicode, so you can have symbols and non-latin characters in there."
   ]
  },
  {
   "cell_type": "code",
   "execution_count": null,
   "metadata": {},
   "outputs": [],
   "source": [
    "# Explicitly create one\n",
    "x = str(\"I am a string!\")\n",
    "print(\"explicit string\", type(x))\n",
    "\n",
    "# Implicitly, we have been doing this for a long time now\n",
    "x = \"I am another string\"\n",
    "print(\"implicit string\", type(x))\n",
    "\n",
    "# Conversions are fun\n",
    "string_number = str(10)\n",
    "print(\"str(10) gives out a string\", type(string_number))\n",
    "number_string = int(\"10\")\n",
    "print(\"int('10') gives out a number\", type(number_string))"
   ]
  },
  {
   "cell_type": "code",
   "execution_count": null,
   "metadata": {},
   "outputs": [],
   "source": [
    "# But beware\n",
    "what_now = int(\"definitely not a number\")"
   ]
  },
  {
   "cell_type": "markdown",
   "metadata": {},
   "source": [
    "Sometimes you have to use the character **\"** in a string, to do so, you _escape_ it by prepending it with a `\\`, as in `\"my fancy string with \\\" quote\"`"
   ]
  },
  {
   "cell_type": "markdown",
   "metadata": {},
   "source": [
    "**Collections** Now for the fun part. Collections are containers of other things.\n",
    "\n",
    "We have 3 basic types of collections with different properties:\n",
    "- tuple $\\rightarrow$ think of it as a fixed-length list of things, you can not add or remove elements to it.\n",
    "- list $\\rightarrow$ a proper list of things, where you can add or remove items.\n",
    "- dictionary $\\rightarrow$ a list of things, where you can associate a unique name to each item and later look it up by name"
   ]
  },
  {
   "cell_type": "code",
   "execution_count": null,
   "metadata": {
    "scrolled": true
   },
   "outputs": [],
   "source": [
    "# A tuple is created by enclosing a list of things in parentheses (,)\n",
    "t = (1, 2, \"hello tuple\")\n",
    "single_item = (1,)\n",
    "print(t)\n",
    "# Or from another already existing sequence of items\n",
    "t2 = tuple(t)\n",
    "print(t2)"
   ]
  },
  {
   "cell_type": "code",
   "execution_count": null,
   "metadata": {},
   "outputs": [],
   "source": [
    "# A list is created in the same way as a tuple, just by using square braces [,]\n",
    "l = [1, 2, \"hello list\"]\n",
    "single_item = [1]\n",
    "print(l)\n",
    "# Or from another existing sequence\n",
    "l2 = list(l)\n",
    "print(l2)\n",
    "l3 = list((1, 2, \"I am from a tuple\"))\n",
    "print(l3)"
   ]
  },
  {
   "cell_type": "code",
   "execution_count": null,
   "metadata": {},
   "outputs": [],
   "source": [
    "# A dictionary is created in a similar way, using curly braces {,}\n",
    "# This time though, we label each item. The easiest way is to use an unique string or number\n",
    "d = {\"element 1\": 1, \"element 2\": 2, \"element 3\": \"I am item #3\"}\n",
    "print(d)\n",
    "# or from another existing dictionary\n",
    "d1 = dict(d)\n",
    "print(d1)"
   ]
  },
  {
   "cell_type": "code",
   "execution_count": null,
   "metadata": {},
   "outputs": [],
   "source": [
    "# But not so easily from a list or tuple\n",
    "d = dict([\"a\", \"b\", \"c\"])\n",
    "# which makes sense if you think about it, which part is the key and which the value?"
   ]
  },
  {
   "cell_type": "markdown",
   "metadata": {},
   "source": [
    "## Conditional expressions, flow control\n",
    "Now the last basic building block you need to know is how to do things conditionally and repeat tasks.\n",
    "We essentially want to create a branch of code that is executed one or more times, when a specific condition is met.\n",
    "\n",
    "### Indentation #2\n",
    "Before I anticipated that indentation makes a difference we will see this in action here.\n",
    "Indentation is, very generally speaking, used to create blocks of code that are logically separate the rest. This is very intuitive when seen in action so let's dig into it.\n",
    "\n",
    "**Conditional execution** Do something if some condition is met.\n",
    "This is done using the `if`, `elif` and `else` keywords."
   ]
  },
  {
   "cell_type": "code",
   "execution_count": null,
   "metadata": {},
   "outputs": [],
   "source": [
    "# Try changing the value of X to see which branch of code is executed\n",
    "x = 10\n",
    "if x == 50:\n",
    "    # If x is exactly 50\n",
    "    print(\"x is exactly 50\")\n",
    "elif x > 50:\n",
    "    # otherwise, check if x is larger than 50\n",
    "    print(\"x is large\")\n",
    "else:\n",
    "    # if none of the above, do this\n",
    "    print(\"x is small\")"
   ]
  },
  {
   "cell_type": "code",
   "execution_count": null,
   "metadata": {},
   "outputs": [],
   "source": [
    "# It is possible to have more complex conditions\n",
    "food = \"biscuit\"\n",
    "drink = \"juice\"\n",
    "if food == \"chocolate\" or drink == \"milk\":\n",
    "    print(\"I like food\")\n",
    "else:\n",
    "    print(\"I do not like food\")\n",
    "    \n",
    "if (food == \"biscuit\" or food == \"cake\") and drink == \"milk\":\n",
    "    print(\"I am hungry\")\n",
    "else:\n",
    "    print(\"Not really hungry\")"
   ]
  },
  {
   "cell_type": "code",
   "execution_count": null,
   "metadata": {},
   "outputs": [],
   "source": [
    "################################# EXPERIMENT #################################\n",
    "# Try stringing toghether more complex conditions.\n",
    "# Hint: You can use the `and` `or` `not` keywords as well as groupings with parentheses (...)\n"
   ]
  },
  {
   "cell_type": "markdown",
   "metadata": {},
   "source": [
    "**Loops** Loops are a way to run a piece of code while/until a condition is met.\n",
    "This is done using the `for...in` and `while` keywords."
   ]
  },
  {
   "cell_type": "code",
   "execution_count": null,
   "metadata": {},
   "outputs": [],
   "source": [
    "# Do something until a condition is met\n",
    "x = 0\n",
    "while x < 10:\n",
    "    x = x + 1\n",
    "    print(\"increment x to\", x)"
   ]
  },
  {
   "cell_type": "code",
   "execution_count": null,
   "metadata": {},
   "outputs": [],
   "source": [
    "# Do something for each item in a collection (e.g. a list)\n",
    "my_list = [1, 10, 35, 40]\n",
    "for element in my_list:\n",
    "    print(\"my_list contains\", element)"
   ]
  },
  {
   "cell_type": "markdown",
   "metadata": {},
   "source": [
    "The built-in `range()` function is also useful to repeat some task a number of times."
   ]
  },
  {
   "cell_type": "code",
   "execution_count": null,
   "metadata": {},
   "outputs": [],
   "source": [
    "for i in range(10):\n",
    "    print(i)"
   ]
  },
  {
   "cell_type": "code",
   "execution_count": null,
   "metadata": {},
   "outputs": [],
   "source": [
    "################################# EXPERIMENT #################################\n",
    "# Iterate over a tuple or a dictionary. The latter may yield some unexpected results.\n"
   ]
  },
  {
   "cell_type": "markdown",
   "metadata": {},
   "source": [
    "Sometimes you need to stop a loop early, because some condition requires it. This can be done using the `break` keyword."
   ]
  },
  {
   "cell_type": "code",
   "execution_count": null,
   "metadata": {},
   "outputs": [],
   "source": [
    "for i in range(10):\n",
    "    print(i)\n",
    "    if i == 5:\n",
    "        break"
   ]
  },
  {
   "cell_type": "markdown",
   "metadata": {},
   "source": [
    "## Functions\n",
    "Functions are the way we describe operations that can be invoked by other parts of the program. Functions may be associated with an _object_, or exist as \"global\" functions.\n",
    "A function in its basic form has 4 components:\n",
    "1. A **name** (which is really a variable in disguise, referencing the actual function _object_)\n",
    "2. A list of **parameters**, that are the names of the arguments that the caller will send to the function to do its job\n",
    "3. A **return value**, which is to say the result of the function\n",
    "4. The **body**, the actual code that describes what the function is supposed to do"
   ]
  },
  {
   "cell_type": "code",
   "execution_count": null,
   "metadata": {},
   "outputs": [],
   "source": [
    "# Anatomy of a function definition\n",
    "# def <function_name>(<parameter-1>, <parameter-2>, ... <parameter-N>):\n",
    "#     return <return value>\n",
    "def my_function_name(param_1, param_2):\n",
    "    # body, do something here!\n",
    "    return True\n",
    "\n",
    "# Anatomy of a function call\n",
    "# returned_value = <function_name>(<argument-1>, <argument-2>, ... <argument-N>)\n",
    "result = my_function_name(\"val1\", \"val2\")"
   ]
  },
  {
   "cell_type": "code",
   "execution_count": null,
   "metadata": {},
   "outputs": [],
   "source": [
    "################################# EXPERIMENT #################################\n",
    "# Try to leave the function body empty\n"
   ]
  },
  {
   "cell_type": "markdown",
   "metadata": {},
   "source": [
    "When a function is called, the parameter names in the definition are bound to the _objects_ passed as the function call arguments, in order.\n",
    "The function then operates on them (possibly modifying them) and optionally return a result."
   ]
  },
  {
   "cell_type": "code",
   "execution_count": null,
   "metadata": {},
   "outputs": [],
   "source": [
    "def example_add(a, b):\n",
    "    return a + b\n",
    "\n",
    "print(example_add(10, 30))"
   ]
  },
  {
   "cell_type": "code",
   "execution_count": null,
   "metadata": {},
   "outputs": [],
   "source": [
    "def example_return_none():\n",
    "    print(\"I do not return any value\")\n",
    "\n",
    "# Note that this will return something called a None value.\n",
    "# This is value representing, well, the absence of a value, and has a special type.\n",
    "print(example_return_none())\n"
   ]
  },
  {
   "cell_type": "code",
   "execution_count": null,
   "metadata": {},
   "outputs": [],
   "source": [
    "def write_message(msg):\n",
    "    print(\"A message:\", msg)\n",
    "    \n",
    "write_message(\"Hello\")\n",
    "write_message(\"The value of msg changes\")\n",
    "write_message(\"For each call\")"
   ]
  },
  {
   "cell_type": "markdown",
   "metadata": {},
   "source": [
    "The operation associated with an object (e.g. a list), are called by specifying the object on which we want to operate, using this notation:"
   ]
  },
  {
   "cell_type": "code",
   "execution_count": null,
   "metadata": {},
   "outputs": [],
   "source": [
    "a_list = [1, 2, 3, 4]\n",
    "print(a_list)\n",
    "# Here we call the function append() defined by the built-in List class\n",
    "a_list.append(5)\n",
    "print(a_list)"
   ]
  },
  {
   "cell_type": "markdown",
   "metadata": {},
   "source": [
    "As usual the `help()` function comes in handy to have a look at which functions we can call for a given object"
   ]
  },
  {
   "cell_type": "code",
   "execution_count": null,
   "metadata": {},
   "outputs": [],
   "source": [
    "help(list)"
   ]
  },
  {
   "cell_type": "markdown",
   "metadata": {},
   "source": [
    "Remember multi-line comments with `\"\"\"...\"\"\"`? They can be used in functions just below the `def` line, to describe what the function does. This text is displayed by the `help()` function so it is quite useful."
   ]
  },
  {
   "cell_type": "code",
   "execution_count": 1,
   "metadata": {},
   "outputs": [
    {
     "name": "stdout",
     "output_type": "stream",
     "text": [
      "Help on function do_stuff in module __main__:\n",
      "\n",
      "do_stuff()\n",
      "    A function that does stuff!\n",
      "    I can be displayed using help()!\n",
      "\n"
     ]
    }
   ],
   "source": [
    "def do_stuff():\n",
    "    \"\"\"\n",
    "    A function that does stuff!\n",
    "    I can be displayed using help()!\n",
    "    \"\"\"\n",
    "    pass\n",
    "\n",
    "help(do_stuff)"
   ]
  },
  {
   "cell_type": "markdown",
   "metadata": {},
   "source": [
    "## Teatime Break!!\n",
    "If you reached this point, you should take a break, brew some tea and relax. We are done with the boring basics. Next section will be more interactive, I promise."
   ]
  }
 ],
 "metadata": {
  "kernelspec": {
   "display_name": "Python 3",
   "language": "python",
   "name": "python3"
  },
  "language_info": {
   "codemirror_mode": {
    "name": "ipython",
    "version": 3
   },
   "file_extension": ".py",
   "mimetype": "text/x-python",
   "name": "python",
   "nbconvert_exporter": "python",
   "pygments_lexer": "ipython3",
   "version": "3.8.5"
  }
 },
 "nbformat": 4,
 "nbformat_minor": 4
}
