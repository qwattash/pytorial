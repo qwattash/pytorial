{
 "cells": [
  {
   "cell_type": "markdown",
   "metadata": {},
   "source": [
    "# Introduction\n",
    "\n",
    "This is a python 3 tutorial built with the goal of interactively teach python by example, providing exercises (and solutions) targeted at specific language features or idioms. Hopefully this will make the learning process both effective and entertaining.\n",
    "In order to reach a point where it is possible to write useful yet simple exercises, we need to setup the python environment and a few core concepts and language features. This initial part will be quickly explained and organised in the form of a glossary for later reference, so that it is easy to go back and look up things.\n",
    "Let's dig into it.\n",
    "\n",
    "## A Note\n",
    "This tutorial assumes to be running under linux or other UNIX derivative (MacOS). The terminal commands given to install python will be relevant to Linux only. If following this from windows your experience may vary, but the core concepts will apply.\n",
    "\n",
    "### Install Python on Linux or MacOS\n",
    "1. Open a terminal window and navigate to the directory containing this tutorial.\n",
    "2. Run the appropriate setup script, for example ubuntu-setup.sh if you are on Ubuntu Linux. Note that `./ubuntu-setup.sh` will ask for the root password to install dependencies.\n",
    "3. Run the `./start.sh` to execute the tutorial.\n",
    "\n",
    "### Quick guide to get a Linux box in 10min\n",
    "1. Install [virtualbox](https://www.virtualbox.org/wiki/Downloads) for your host system\n",
    "2. Download a [Scientific Linux image](https://www.osboxes.org/scientific-linux/) for VirtualBox\n",
    "3. Open VirtualBox and create a [new virtual machine](https://docs.oracle.com/cd/E26217_01/E26796/html/qs-create-vm.html)\n",
    "    - make sure you select Linux as the **Operating system**, you can choose the generic linux for the **Version** field\n",
    "    - Use an existing disk, pointing it to the scientific linux `.vdi` file\n",
    "4. Start the virtual machine\n",
    "5. Profit\n",
    "    "
   ]
  },
  {
   "cell_type": "markdown",
   "metadata": {},
   "source": [
    "# Bare-metal python introduction\n",
    "\n",
    "### What is Python\n",
    "Python is an interpreted language. This means that whatever you write in the Python language will be read and executed by another program (the _interpreter_), not directly by your CPU. In the case of Python, the interpreter is a program called _python_ (usually found in `/bin/python` or `/usr/bin/python`).\n",
    "The interpreter can be used in multiple ways, these are relevant to us:\n",
    "- Interactively, by running `python` in a terminal\n",
    "- By running a script, by invoking `python path/to/my/script_file.py`\n",
    "\n",
    "A python file, or script, is just a fancy text file conforming to the Python programming language syntax. A notable thing is that whatever you write interactively, can also write in a file and run it (and vice versa). Interactive python is useful for experimenting with the language and trying things out.\n",
    "\n",
    "At this point you should install python and some text editor to write code into (PyCharm and Visual Studio Code are two options if you don't have a preference).\n",
    "\n",
    "### Python packages\n",
    "Python has a rich variety of third-party software libraries (a.k.a. _packages_) that you can install and use in your projects. This is performed using the `pip` utility (Package Installer for Python). It will search and install packages from the [python package index](https://pypi.org/).\n",
    "Generally `pip` installs packages in your system. If you want to have a separate environment with different package versions, isolated from your system environment you can use Python virtual environments `virtualenv`.\n",
    "\n",
    "### This tutorial\n",
    "This tutorial is written in an interactive web-based tool called Jupyter, this allows to mix and match text and Python code. It lets you run python code and visualize the result directly into the browser, just like if you ran a small script using the _python_ interpreter directly.\n",
    "To run this locally you have to do the following:\n",
    "1. Download this tutorial somewhere\n",
    "2. Install Jupyter `pip install jupyter jupyterlab`\n",
    "3. Run jupyter in the tutorial directory `jupyter lab`, a web browser tab should open with this tutorial chapters.\n",
    "\n",
    "To verify that everything works as expected you can open the Python interpreter by running `python` in a terminal and run the following command. You can also run the command by selecting it in the Jupyter web-interface and hitting _Run_ at the top of the page."
   ]
  },
  {
   "cell_type": "code",
   "execution_count": null,
   "metadata": {
    "scrolled": true
   },
   "outputs": [],
   "source": [
    "print(\"Hello Tutorial!\")"
   ]
  },
  {
   "cell_type": "markdown",
   "metadata": {},
   "source": [
    "# Table of Contents\n",
    "\n",
    "1. [Basic Python](basic-python.ipynb)\n",
    "2. [Less Basic Python](less-basic-python.ipynb)\n",
    "3. [Custom Types and Objects](building-blocks.ipynb)"
   ]
  },
  {
   "cell_type": "code",
   "execution_count": null,
   "metadata": {},
   "outputs": [],
   "source": []
  }
 ],
 "metadata": {
  "kernelspec": {
   "display_name": "Python 3 (ipykernel)",
   "language": "python",
   "name": "python3"
  },
  "language_info": {
   "codemirror_mode": {
    "name": "ipython",
    "version": 3
   },
   "file_extension": ".py",
   "mimetype": "text/x-python",
   "name": "python",
   "nbconvert_exporter": "python",
   "pygments_lexer": "ipython3",
   "version": "3.11.6"
  }
 },
 "nbformat": 4,
 "nbformat_minor": 4
}
