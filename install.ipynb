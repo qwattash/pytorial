{
 "cells": [
  {
   "cell_type": "markdown",
   "metadata": {},
   "source": [
    "# Get Python\n",
    "[Python](python.org) is a programming language that is rather intuitive to write and is a very popular solution to automate the many prototyping and scripting tasks necessary for data analysis in various scientific fields.\n",
    "The popularity of python is certainly due, among other things, to the relative ease of use across platforms (e.g. Windows and Linux) and to the wide community support: there is a pyhton library for almost everything you can think of!\n",
    "\n",
    "## Getting started\n",
    "*Where am I?*\n",
    "\n",
    "In an attempt limit the amount of magic we rely on, I will start from a minimal python setup so that we can see the very basic requirements for running code.\n",
    "\n",
    "**What you need:**\n",
    "- A plain text editor\n",
    "- The python interpreter\n",
    "- A python package manager\n",
    "\n",
    "A python source file is just a text file, which usually is given the \".py\" extension. There are no special requirements to edit these files, in principle any plain text editor can do that."
   ]
  },
  {
   "cell_type": "code",
   "execution_count": 1,
   "metadata": {},
   "outputs": [
    {
     "name": "stdout",
     "output_type": "stream",
     "text": [
      "Hello from python!\n"
     ]
    }
   ],
   "source": [
    "# This is a python source\n",
    "# Let's say hello.py\n",
    "\n",
    "print(\"Hello from python!\")"
   ]
  },
  {
   "cell_type": "markdown",
   "metadata": {},
   "source": [
    "To execute this code you need an *interpreter*, which will read the file and actually perform whatever actions it specifies. There are many ways an interpreter can go around doing so, but these are not too relevant to us. Note that interpreter implements the built-in language features, such as `print()`.\n",
    "\n",
    "Now let's say that we are not satisfied with only printing things and we want access to some functionality that is not built into the interpreter. For instance we want to write to a web server.\n",
    "We could write all the network protocol stack on our own ony using built-in features, but that would be hard and time consuming. So instead we reuse the code that somebody else wrote and *packaged* in a *library*."
   ]
  },
  {
   "cell_type": "code",
   "execution_count": 4,
   "metadata": {},
   "outputs": [
    {
     "name": "stdout",
     "output_type": "stream",
     "text": [
      "# A python tutorial\n",
      "This is my first attempt at writing a python tutorial.\n",
      "After a few years that I use python I found many great resources to learn\n",
      "and people who shared their experience. There is certainly no lack of tutorials\n",
      "on Python, my intention is to give back to the community and, in the process,\n",
      "practice the art of teaching. Hopefully I will be able to write something that\n",
      "ends up being useful to somebody.\n",
      "\n",
      "Cheers!\n",
      "\n"
     ]
    }
   ],
   "source": [
    "# A less simple hello.py\n",
    "\n",
    "from urllib.request import urlopen\n",
    "\n",
    "res = urlopen(\"https://raw.githubusercontent.com/qwattash/pytorial/master/README.md\")\n",
    "assert res.getcode() == 200, \"Some error occurred :(\"\n",
    "print(res.read().decode(\"utf-8\"))\n"
   ]
  },
  {
   "cell_type": "markdown",
   "metadata": {},
   "source": [
    "Now, I cheated slightly since urllib is part of the standard library, meaning that is shipped along with the basic python interpreter. However the need to use third party code still remains.\n",
    "Python package managers are meant to help finding, installing and updating libraries (or more generally *packages*, duh!).\n",
    "\n",
    "Python offers three main options for this:\n",
    "- [LInux/macOS] use your distribution package manager (homebrew for macOS)\n",
    "- Use pip (sometimes bundled with the python interpreter)\n",
    "- Use anaconda, which provides a python environment specifically for data science.\n",
    "\n",
    "We will be using anaconda, just because it is easier to deal with for our purpose."
   ]
  },
  {
   "cell_type": "markdown",
   "metadata": {},
   "source": [
    "## Install all the things\n",
    "*Enough chit-chat, I want to do stuff!*\n",
    "\n",
    "### Python environment\n",
    "So first we will install the [Anaconda](anaconda.com/distribution) environment.\n",
    "You have two options:\n",
    "1. Download the full installer with Python 3.7 for your platform [here](anaconda.com/distribution#download-section).\n",
    "  - Note that this will require ~3GB of disk space.\n",
    "  - It contains most python packages we will use by default.\n",
    "2. Install [Miniconda](https://docs.conda.io/en/latest/miniconda.html), a minimal Anaconda environment.\n",
    "  - This will need ~400MB of disk space.\n",
    "  - You will install later only what you need. Also give you the opportunity to practice with the *conda* package manager.\n",
    "\n",
    "Once the installation completes, you should be able to open a python interpreter by running:\n",
    "```sh\n",
    "python\n",
    "> print(\"Hello World\")\n",
    "  Hello World\n",
    ">\n",
    "```\n",
    "\n",
    "And check the anaconda installation by listing the installed packages:\n",
    "```sh\n",
    "conda list\n",
    "```\n",
    "---\n",
    "Optional step: we create a separate environment for this tutorial.\n",
    "\n",
    "Anaconda allows to create separate environments with different python versions and packages (note that this is also possible without anaconda, with the *virtualenv* package).\n",
    "Packages installed in an environment will not interfere with other environments, and help keeping your project dependencies under control.\n",
    "We now create the *pytorial* environment:\n",
    "```sh\n",
    "# Create the environment\n",
    "conda create -n pytorial python\n",
    "# And make sure we switch to it\n",
    "conda activate pytorial\n",
    "```\n",
    "---\n",
    "We are now set to install packages and run python.\n",
    "For any question, the Anaconda [documentation](https://conda.io/projects/conda/en/latest/user-guide/install/download.html) is quite exahustive. Among other things, it contains a description of the *conda* commands."
   ]
  },
  {
   "cell_type": "markdown",
   "metadata": {},
   "source": [
    " ### Jupyter\n",
    "[Jupyter](jupyter.org) notebooks are a handy way of mixing notes and code, in fact this tutorial is made of a set of Jupyter notebooks. This will be our editor, however feel free to explore other development enviroments, such as [Atom](atom.io), which are more well-suited for less interactive coding projects.\n",
    "\n",
    "> **Note:** If you installed the full anaconda package, you already have jupyter, skip the installation step but make sure you have jupyter-lab.\n",
    "\n",
    "If you installed miniconda, you will need to get the *jupyter* package using the *conda* command.\n",
    "You can do so by opening a terminal and running:\n",
    "```sh\n",
    "conda install jupyter\n",
    "conda install -c conda-forge jupyterlab\n",
    "```\n",
    "\n",
    "Now you can stop reading this tutorial from here and actually [download](https://github.com/qwattash/pytorial/archive/master.zip) an run it locally!\n",
    "Jupyter uses a specific default directory to look up notebooks, this usually defaults to your user's home directory (in whatever operating system you are using). You can either change that with the `--notebook-dir='path/to/my/notebook/directory'` option when you run jupyer or put the pytorial notebooks in the correct path.\n",
    "\n",
    "> **Note:** If you have [git](https://git-scm.com), you can clone this tutorial locally and run it in the same way. I am assuming that if you have git you know how to do that. I do not wish to explain source control software here as it would take another full tutorial to do that.\n",
    "\n",
    "Now, assuming that you have a \"pytorial\" directory somewhere, you can run jupyter and open the intro page. You should get a browser window where you can select the pytorial chapters to open.\n",
    "```sh\n",
    "jupyter lab\n",
    "```\n",
    "\n",
    "Notes in Jupyter are written in [Markdown](https://jupyter-notebook.readthedocs.io/en/stable/examples/Notebook/Working%20With%20Markdown%20Cells.html), a fairly porwerful and intuitive markdown language, of course you can just write plain text but where is the fun?\n",
    "\n",
    "---\n",
    "Congratulations! You have completed the first part of the tutorial!"
   ]
  }
 ],
 "metadata": {
  "kernelspec": {
   "display_name": "Python 3",
   "language": "python",
   "name": "python3"
  },
  "language_info": {
   "codemirror_mode": {
    "name": "ipython",
    "version": 3
   },
   "file_extension": ".py",
   "mimetype": "text/x-python",
   "name": "python",
   "nbconvert_exporter": "python",
   "pygments_lexer": "ipython3",
   "version": "3.7.2"
  }
 },
 "nbformat": 4,
 "nbformat_minor": 2
}
