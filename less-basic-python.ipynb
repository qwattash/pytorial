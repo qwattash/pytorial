{
 "cells": [
  {
   "cell_type": "markdown",
   "metadata": {},
   "source": [
    "# Less Basic Python\n",
    "If you are here, you survived the first part. This section will deal with more concrete and interactive topics.\n",
    "It is structured as a set of separate introductions to using the basic features and built-in types of the language. "
   ]
  },
  {
   "cell_type": "markdown",
   "metadata": {},
   "source": [
    "## The notion of Scope\n",
    "The scope of a variable describes the part of the program from where a variable can be reached.\n",
    "In python a variable can have one of the following scopes.\n",
    "1. **local**: A variable defined in a function is only visible from within the function"
   ]
  },
  {
   "cell_type": "code",
   "execution_count": null,
   "metadata": {},
   "outputs": [],
   "source": [
    "def do_foo():\n",
    "    local_variable = \"hello!\"\n",
    "# this will fail!\n",
    "do_foo()\n",
    "print(local_variable)"
   ]
  },
  {
   "cell_type": "code",
   "execution_count": null,
   "metadata": {},
   "outputs": [],
   "source": [
    "# It is also possible to redefine a variable with the same name in different scopes\n",
    "something = \"hello!\"\n",
    "def do_stuff():\n",
    "    # this will not affect the value of `something` outside of the function\n",
    "    something = \"bye!\"\n",
    "do_stuff()\n",
    "print(something)"
   ]
  },
  {
   "cell_type": "markdown",
   "metadata": {},
   "source": [
    "2. **enclosing**: If a function is defined within a function, the variables defined in the parent scope are visible in the inner scope"
   ]
  },
  {
   "cell_type": "code",
   "execution_count": null,
   "metadata": {},
   "outputs": [],
   "source": [
    "def parent():\n",
    "    parent_var = \"I am parent\"\n",
    "    def inner():\n",
    "        inner_var = \"I am inner\"\n",
    "        print(\"inner:\", parent_var)\n",
    "        print(\"inner:\", inner_var)\n",
    "    print(\"parent:\", parent_var)\n",
    "    # This would instead fail\n",
    "    # print(\"parent:\", inner_var)\n",
    "    inner()\n",
    "\n",
    "parent()    "
   ]
  },
  {
   "cell_type": "markdown",
   "metadata": {},
   "source": [
    "Modyfing a variable in the enclosing scope is still not possible"
   ]
  },
  {
   "cell_type": "code",
   "execution_count": null,
   "metadata": {},
   "outputs": [],
   "source": [
    "def parent():\n",
    "    something = \"hello!\"\n",
    "    def change_something():\n",
    "        something = \"bye!\"\n",
    "    change_something()\n",
    "    print(something)\n",
    "\n",
    "parent()"
   ]
  },
  {
   "cell_type": "markdown",
   "metadata": {},
   "source": [
    "This can be achieved using the `nonlocal` keyword, however it is very uncommon to need this feature."
   ]
  },
  {
   "cell_type": "code",
   "execution_count": null,
   "metadata": {},
   "outputs": [],
   "source": [
    "def parent():\n",
    "    something = \"hello!\"\n",
    "    def change_something():\n",
    "        nonlocal something\n",
    "        something = \"bye!\"\n",
    "    change_something()\n",
    "    print(something)\n",
    "\n",
    "parent()"
   ]
  },
  {
   "cell_type": "markdown",
   "metadata": {},
   "source": [
    "3. **global**: The global (or module) scope is the top level scope of the file. Global variables are visible from everywhere in the same file (module)"
   ]
  },
  {
   "cell_type": "code",
   "execution_count": null,
   "metadata": {},
   "outputs": [],
   "source": [
    "global_var = \"hello!\"\n",
    "def do_stuff():\n",
    "    print(global_var)\n",
    "do_stuff()"
   ]
  },
  {
   "cell_type": "markdown",
   "metadata": {},
   "source": [
    "It is possible to directly modify or access a global variable using the `global` keyword, however it is rare that you need to do this."
   ]
  },
  {
   "cell_type": "code",
   "execution_count": null,
   "metadata": {},
   "outputs": [],
   "source": [
    "global_var = \"hello!\"\n",
    "def do_stuff():\n",
    "    global global_var\n",
    "    global_var = \"bye!\"\n",
    "do_stuff()\n",
    "print(global_var)"
   ]
  },
  {
   "cell_type": "markdown",
   "metadata": {},
   "source": [
    "4. **built-in**: This is the scope of functions defined by the Python language itself, `print()` for example. This is accessible from everywhere in the code, but beware to avoid re-defining built-in python functions, as it may lead to hard-to debug errors."
   ]
  },
  {
   "cell_type": "code",
   "execution_count": null,
   "metadata": {},
   "outputs": [],
   "source": [
    "# You can print from everywhere\n",
    "print(\"hello!\")\n",
    "def say_bye():\n",
    "    def say_things():\n",
    "        print(\"I have to go\")\n",
    "    say_things()\n",
    "    print(\"bye!\")\n",
    "say_bye()"
   ]
  },
  {
   "cell_type": "code",
   "execution_count": null,
   "metadata": {},
   "outputs": [],
   "source": [
    "# Redefinition is evil\n",
    "def __avoid_to_mess_up_print_in_global_scope():\n",
    "    def print():\n",
    "        # other print that takes no arguments and does nothing\n",
    "        pass\n",
    "    # The built-in print is no longer available now!\n",
    "    print(\"hello\")\n",
    "__avoid_to_mess_up_print_in_global_scope()"
   ]
  },
  {
   "cell_type": "markdown",
   "metadata": {},
   "source": [
    "## Interact with user input - Read and write\n",
    "To build something useful, you may need to interactively read input from the user.\n",
    "This is accomplished using the `input()` built-in function. It takes a prompt message argument to display and waits until the user hits _enter_, the return value is the user input up until the _enter_ key is pressed, as a string."
   ]
  },
  {
   "cell_type": "code",
   "execution_count": null,
   "metadata": {},
   "outputs": [],
   "source": [
    "# (The fancy box will not appear in the terminal version of python)\n",
    "x = input(\"Type something and hit <enter>: \")\n",
    "print(\"User wrote\", x)"
   ]
  },
  {
   "cell_type": "markdown",
   "metadata": {},
   "source": [
    "If you are expecting the user to insert numbers, you can always convert the string by explicitly using the `int()` or `float()` data type constructors."
   ]
  },
  {
   "cell_type": "code",
   "execution_count": null,
   "metadata": {},
   "outputs": [],
   "source": [
    "################################# EXPERIMENT #################################\n",
    "# Write a snippet of code that does the following\n",
    "# 1. Read numbers from the user input, until the user inserts the string 'stop'\n",
    "# 2. Sum all the numbers entered\n",
    "# 3. Print out the result\n"
   ]
  },
  {
   "cell_type": "markdown",
   "metadata": {},
   "source": [
    "## Error #2 - Exceptions\n",
    "Let's assume you do something in your program that may or may not cause an error. Have a look at the following code that reads a number from the user input and increments it by 10."
   ]
  },
  {
   "cell_type": "code",
   "execution_count": null,
   "metadata": {},
   "outputs": [],
   "source": [
    "value = input(\"Insert a number: \")\n",
    "number = int(value)\n",
    "print(number + 10)"
   ]
  },
  {
   "cell_type": "markdown",
   "metadata": {},
   "source": [
    "If you attempt to insert something that is not a number, the conversion to `int()` will fail! But how can you rely on the user to do the right thing? Rule #1 of programmig is to _never_ trust the user to do the right thing!\n",
    "What we need is a way to handle the fact that we got an error and attempt to recover from it! After all if the user entered the wrong thing, we could just ask again, instead of crashing horribly. But how do we do this?\n",
    "\n",
    "In Python, whenever there is an error, an _exception_ is generated. We - the programmers - get a chance to catch the exception and deal with it. This is done with the `try...except` keywords."
   ]
  },
  {
   "cell_type": "code",
   "execution_count": null,
   "metadata": {},
   "outputs": [],
   "source": [
    "value = input(\"Insert a number: \")\n",
    "try:\n",
    "    number = int(value)\n",
    "    print(number + 10)\n",
    "except:\n",
    "    print(\"You did not insert a number!\")"
   ]
  },
  {
   "cell_type": "markdown",
   "metadata": {},
   "source": [
    "Exceptions are _objects_ too! As everything they have a type, in the case of this example `ValueError`. We can catch exceptions of a specific type and ignore others by specifying the type in the `except` clause."
   ]
  },
  {
   "cell_type": "code",
   "execution_count": null,
   "metadata": {},
   "outputs": [],
   "source": [
    "value = input(\"Insert a number: \")\n",
    "try:\n",
    "    number = int(value)\n",
    "    print(number + 10)\n",
    "except ValueError as ex:\n",
    "    print(\"Got an error!\", ex)"
   ]
  },
  {
   "cell_type": "markdown",
   "metadata": {},
   "source": [
    "There is also a way to catch every exception with the same pattern, using the generic type `Exception`."
   ]
  },
  {
   "cell_type": "code",
   "execution_count": null,
   "metadata": {},
   "outputs": [],
   "source": [
    "value = input(\"Insert a number: \")\n",
    "try:\n",
    "    number = int(value)\n",
    "    print(number + 10)\n",
    "except Exception as ex:\n",
    "    print(\"Got an error!\", ex)"
   ]
  },
  {
   "cell_type": "markdown",
   "metadata": {},
   "source": [
    "If an exception is not caught, what happens to it? Exceptions bubble up the chain of function calls, for example have a look at the following code.\n",
    "Let us pretend to pause the program before returning from `convert_to_int()`. The chain of function calls will be (ordered by time of call):\n",
    "1. top-level-python-script\n",
    "2. get_input()\n",
    "3. convert_to_int()\n",
    "\n",
    "An exception generated in `convert_to_int()` will propagate upwards, until it is either caught by an `except` clause or reaches the top-level python environment. In the latter case python will handle it and crash with an error."
   ]
  },
  {
   "cell_type": "code",
   "execution_count": null,
   "metadata": {},
   "outputs": [],
   "source": [
    "def convert_to_int(value):\n",
    "    return int(value)\n",
    "\n",
    "def get_input():\n",
    "    val = input(\"Insert a number: \")\n",
    "    intval = convert_to_int(val)\n",
    "    return intval\n",
    "\n",
    "intval = get_input()\n",
    "print(intval)"
   ]
  },
  {
   "cell_type": "markdown",
   "metadata": {},
   "source": [
    "We could catch the exception in `get_input()` and prevent further propagatation of the error. If we do so, the program resumes from the `except` code block that caught the exception."
   ]
  },
  {
   "cell_type": "code",
   "execution_count": null,
   "metadata": {},
   "outputs": [],
   "source": [
    "def convert_to_int(value):\n",
    "    return int(value)\n",
    "\n",
    "def get_input():\n",
    "    val = input(\"Insert a number: \")\n",
    "    try:\n",
    "        intval = convert_to_int(val)\n",
    "        print(\"Error did not occur!\")\n",
    "    except ValueError as ex:\n",
    "        print(\"Error occurred, program resumes from here\")\n",
    "        # Set a default integer value as fallback, as intval would\n",
    "        # never have been set if we reach this point\n",
    "        intval = 99999\n",
    "    return intval\n",
    "\n",
    "intval = get_input()\n",
    "print(intval)"
   ]
  },
  {
   "cell_type": "code",
   "execution_count": null,
   "metadata": {},
   "outputs": [],
   "source": [
    "################################# EXPERIMENT #################################\n",
    "# Write a snippet of code that does the following, this time using exceptions!\n",
    "# 1. Read numbers from the user input, until the user inserts the string 'stop'\n",
    "# 2. Sum all the numbers entered\n",
    "# 3. Print out the result\n"
   ]
  },
  {
   "cell_type": "code",
   "execution_count": null,
   "metadata": {},
   "outputs": [],
   "source": [
    "################################# EXPERIMENT #################################\n",
    "# Try generating more errors to see the type of exceptions you get\n",
    "# For instance this generates a ZeroDivisionError\n",
    "try:\n",
    "    print(1/0)\n",
    "except Exception as ex:\n",
    "    print(type(ex), ex)\n"
   ]
  },
  {
   "cell_type": "markdown",
   "metadata": {},
   "source": [
    "## More on lists and tuples\n",
    "This section showcases common operations on lists and tuples that should be more or less self-explainatory.\n",
    "Tuples work essentially as lists but you can not add or remove elements, just read or modify them."
   ]
  },
  {
   "cell_type": "code",
   "execution_count": null,
   "metadata": {},
   "outputs": [],
   "source": [
    "listB = [\"a\", \"b\", \"c\"]\n",
    "\n",
    "# Length of a collection\n",
    "print(len(listB))\n",
    "# As an aside, len() can be used with strings as well\n",
    "print(len(\"hello\"))\n",
    "\n",
    "# Read element at given position\n",
    "first = listB[0]\n",
    "last = listB[-1]\n",
    "second_to_last = listB[-2]\n",
    "# Extract slice of items from position 0 to position 1, excluded. The slice is also a list\n",
    "list_slice = listB[0:1]\n",
    "print(first, last, second_to_last, list_slice)"
   ]
  },
  {
   "cell_type": "code",
   "execution_count": null,
   "metadata": {},
   "outputs": [],
   "source": [
    "listB = [\"a\", \"b\", \"c\"]\n",
    "\n",
    "# Check if elemet is in a collection\n",
    "print(\"a\" in listB, \"x\" in listB)"
   ]
  },
  {
   "cell_type": "code",
   "execution_count": null,
   "metadata": {},
   "outputs": [],
   "source": [
    "listA = [\"a\", \"b\", \"c\", \"d\", \"e\"]\n",
    "\n",
    "# Modify element at given position\n",
    "listA[0] = \"first\"\n",
    "listA[-1] = \"last\"\n",
    "listA[1:3] = [\"two\", \"three\"]\n",
    "print(listA)"
   ]
  },
  {
   "cell_type": "code",
   "execution_count": null,
   "metadata": {},
   "outputs": [],
   "source": [
    "listA = [\"a\", \"b\", \"c\", \"d\", \"e\"]\n",
    "\n",
    "# Copy\n",
    "copy = list(listA)\n",
    "other_copy = listA.copy()\n",
    "copy[2] = \"modified\"\n",
    "print(\"original\", listA, \"copy\", copy)"
   ]
  },
  {
   "cell_type": "code",
   "execution_count": null,
   "metadata": {},
   "outputs": [],
   "source": [
    "# Ways of inserting elements\n",
    "listA = [\"a\", \"b\"]\n",
    "\n",
    "listA.append(\"at the end\")\n",
    "listA.insert(1, \"at position 1\")\n",
    "listA.extend([\"extra\", \"elements\"])\n",
    "print(listA)"
   ]
  },
  {
   "cell_type": "code",
   "execution_count": null,
   "metadata": {},
   "outputs": [],
   "source": [
    "# Ways of removing elements\n",
    "listA = [\"a\", \"b\", \"c\", \"d\", \"e\"]\n",
    "\n",
    "last = listA.pop()\n",
    "at_position_3 = listA.pop(3)\n",
    "listA.remove(\"a\") # Remove first element with value \"a\"\n",
    "print(last, at_position_3, listA)"
   ]
  },
  {
   "cell_type": "code",
   "execution_count": null,
   "metadata": {},
   "outputs": [],
   "source": [
    "# Unpacking operation\n",
    "pack = [1, 2, 3]\n",
    "a,b,c = pack\n",
    "print(a, b, c)"
   ]
  },
  {
   "cell_type": "markdown",
   "metadata": {},
   "source": [
    "## More on dictionaries\n",
    "This section showcases common operations on dictionaries that should be more or less self-explainatory."
   ]
  },
  {
   "cell_type": "code",
   "execution_count": null,
   "metadata": {},
   "outputs": [],
   "source": [
    "dictA = {\"a\": \"A\", \"b\": \"B\", \"c\": \"C\"}\n",
    "\n",
    "# Read elements\n",
    "by_key = dictA[\"a\"]\n",
    "default_if_not_existing = dictA.get(\"x\", \"default\")\n",
    "print(by_key, default_if_not_existing)"
   ]
  },
  {
   "cell_type": "code",
   "execution_count": null,
   "metadata": {},
   "outputs": [],
   "source": [
    "dictA = {\"a\": \"A\", \"b\": \"B\", \"c\": \"C\"}\n",
    "\n",
    "# Modify and add elements\n",
    "dictA[\"a\"] = \"another value\"\n",
    "dictA[\"x\"] = \"new value\"\n",
    "dictA.update({\"b\": \"updated\", \"y\": \"another new value\"})\n",
    "print(dictA)"
   ]
  },
  {
   "cell_type": "code",
   "execution_count": null,
   "metadata": {},
   "outputs": [],
   "source": [
    "# Iterate dictionary\n",
    "dictA = {\"a\": \"A\", \"b\": \"B\", \"c\": \"C\"}\n",
    "\n",
    "for key in dictA.keys():\n",
    "    print(\"key\", key)\n",
    "    \n",
    "for value in dictA.values():\n",
    "    print(\"value\", value)\n",
    "\n",
    "for key,value in dictA.items():\n",
    "    print(\"both\", key, \"=>\", value)"
   ]
  },
  {
   "cell_type": "markdown",
   "metadata": {},
   "source": [
    "## Interact with files\n",
    "Files operations first require to obtain a file object by opening a file. This is performed with the built-in `open()` function."
   ]
  },
  {
   "cell_type": "code",
   "execution_count": null,
   "metadata": {},
   "outputs": [],
   "source": [
    "# Open a file. The second argument represents the mode in which to open the file, `rw+` means read, write and create if not existing\n",
    "file = open(\"test_file.txt\", \"w+\")\n",
    "# The file has a cursor position that determines where in the file you are reading/writing\n",
    "current_position = file.tell()\n",
    "print(\"For a newly opened file this will be zero\", current_position)\n",
    "# Now you can write things to the file:\n",
    "file.write(\"Hello!\")\n",
    "# And see that the position has advanced\n",
    "current_position = file.tell()\n",
    "print(\"Position advanced of len('Hello!')\", current_position)\n",
    "# You can change the cursor position\n",
    "file.seek(0)\n",
    "print(\"Position changed\", file.tell())\n",
    "# And read it back\n",
    "value = file.read()\n",
    "print(value)\n",
    "# And see that the position has advanced again\n",
    "print(\"Position advanced of len('Hello!')\", file.tell())"
   ]
  },
  {
   "cell_type": "markdown",
   "metadata": {},
   "source": [
    "## Fancy string operations\n",
    "The string object have a very useful function to compose strings dynamically: the `format()` function.\n",
    "Given a string, `format()` will replace occurrences of the `{}` pattern with arguments of the `format()` function, in order."
   ]
  },
  {
   "cell_type": "code",
   "execution_count": 13,
   "metadata": {},
   "outputs": [
    {
     "name": "stdout",
     "output_type": "stream",
     "text": [
      "Some string embedded here and a #10 number\n"
     ]
    }
   ],
   "source": [
    "print(\"Some string {} and a #{} number\".format(\"embedded here\", 10))"
   ]
  },
  {
   "cell_type": "markdown",
   "metadata": {},
   "source": [
    "Within the `{}` pattern, it is possible to specify particular rules to convert the argument to a desired format, for instance you can cause the format function to fail if an argument is not a valid type for the pattern."
   ]
  },
  {
   "cell_type": "code",
   "execution_count": 14,
   "metadata": {},
   "outputs": [
    {
     "name": "stdout",
     "output_type": "stream",
     "text": [
      "Format an integer 10\n"
     ]
    }
   ],
   "source": [
    "print(\"Format an integer {:d}\".format(10))"
   ]
  },
  {
   "cell_type": "code",
   "execution_count": 15,
   "metadata": {},
   "outputs": [
    {
     "ename": "ValueError",
     "evalue": "Unknown format code 'd' for object of type 'str'",
     "output_type": "error",
     "traceback": [
      "\u001b[0;31m---------------------------------------------------------------------------\u001b[0m",
      "\u001b[0;31mValueError\u001b[0m                                Traceback (most recent call last)",
      "\u001b[0;32m<ipython-input-15-8a4c9bcfad65>\u001b[0m in \u001b[0;36m<module>\u001b[0;34m\u001b[0m\n\u001b[0;32m----> 1\u001b[0;31m \u001b[0mprint\u001b[0m\u001b[0;34m(\u001b[0m\u001b[0;34m\"Format an integer {:d} with a string fails\"\u001b[0m\u001b[0;34m.\u001b[0m\u001b[0mformat\u001b[0m\u001b[0;34m(\u001b[0m\u001b[0;34m\"hello!\"\u001b[0m\u001b[0;34m)\u001b[0m\u001b[0;34m)\u001b[0m\u001b[0;34m\u001b[0m\u001b[0;34m\u001b[0m\u001b[0m\n\u001b[0m",
      "\u001b[0;31mValueError\u001b[0m: Unknown format code 'd' for object of type 'str'"
     ]
    }
   ],
   "source": [
    "print(\"Format an integer {:d} with a string fails\".format(\"hello!\"))"
   ]
  },
  {
   "cell_type": "markdown",
   "metadata": {},
   "source": [
    "But you can also specify padding, decimal points and many more things. `help()` is your friend."
   ]
  },
  {
   "cell_type": "code",
   "execution_count": 21,
   "metadata": {},
   "outputs": [
    {
     "name": "stdout",
     "output_type": "stream",
     "text": [
      "A number with 2 decimals 001.99 and at least 6 characters wide, prepended by zeroes\n"
     ]
    }
   ],
   "source": [
    "print(\"A number with 2 decimals {:06.2f} and at least 6 characters wide, prepended by zeroes\".format(1.98765432))"
   ]
  },
  {
   "cell_type": "markdown",
   "metadata": {},
   "source": [
    "## Challenge #1 - A shopping list\n",
    "In this exercise you have to write a simple program that manages the user's shopping list.\n",
    "The program should show a prompt that allows the following commands to be entered:\n",
    "1. **list** list the currently existing items, each with an associated unique identifier\n",
    "2. **add** add a new entry\n",
    "3. **remove** remove entry with given identifier\n",
    "4. **update** change entry with given identifier\n",
    "5. **save** save list to given file, writing one entry per line\n",
    "6. **quit** exit the program"
   ]
  },
  {
   "cell_type": "code",
   "execution_count": null,
   "metadata": {},
   "outputs": [],
   "source": [
    "# Try to implement it here or as a separate script to run manually on the terminal!\n"
   ]
  },
  {
   "cell_type": "code",
   "execution_count": null,
   "metadata": {},
   "outputs": [],
   "source": [
    "# Possible solution\n",
    "\n",
    "shopping_list = []\n",
    "\n",
    "def show():\n",
    "    print(\"Shopping list:\")\n",
    "    if len(shopping_list) == 0:\n",
    "        print(\"Empty!\")\n",
    "    for index, value in enumerate(shopping_list):\n",
    "        print(\"{}: {}\".format(index, value))\n",
    "        \n",
    "def add():\n",
    "    content = input(\"What do you wish to add? \")\n",
    "    content = content.strip()\n",
    "    if content in shopping_list:\n",
    "        print(\"{} is already in the list\".format(content))\n",
    "    else:\n",
    "        shopping_list.append(content)\n",
    "        \n",
    "def remove():\n",
    "    str_index = input(\"Which item do you want to remove? \")\n",
    "    try:\n",
    "        int_index = int(str_index)\n",
    "        if int_index >= 0 and int_index < len(shopping_list):\n",
    "            shopping_list.pop(int_index)\n",
    "        else:\n",
    "            print(\"Item #{} does not exist\".format(int_index))\n",
    "    except ValueError:\n",
    "        print(\"Invalid item identifier\")\n",
    "\n",
    "def update():\n",
    "    str_index = input(\"Which item do you want to update? \")\n",
    "    try:\n",
    "        int_index = int(str_index)\n",
    "        if int_index >= 0 and int_index < len(shopping_list):\n",
    "            print(\"Current item is\", shopping_list[int_index])\n",
    "            replace = input(\"Enter new item: \")\n",
    "            shopping_list[int_index] = replace\n",
    "        else:\n",
    "            print(\"Item #{} does not exist\".format(int_index))\n",
    "    except ValueError:\n",
    "        print(\"Invalid item identifier\")\n",
    "        \n",
    "def save():\n",
    "    filename = input(\"Enter file name: \")\n",
    "    try:\n",
    "        file = open(filename, \"w+\")\n",
    "        for item in shopping_list:\n",
    "            file.write(item)\n",
    "            file.write(\"\\n\") # write a newline character\n",
    "        file.close()\n",
    "        print(\"Saved shopping list to\", filename)\n",
    "    except FileNotFoundError:\n",
    "        print(\"File can not be created\", filename)\n",
    "        \n",
    "while True:\n",
    "    print(\"\\n\") # empty line for nicer output\n",
    "    print(\"Usage:\")\n",
    "    print(\"list   -> list current shopping list\")\n",
    "    print(\"add    -> add entry to the list\")\n",
    "    print(\"remove -> remove entry from the list\")\n",
    "    print(\"update -> update entry from the list\")\n",
    "    print(\"save   -> save list to file\")\n",
    "    print(\"quit   -> exit without saving\")\n",
    "    command = input(\"Enter command: \")\n",
    "    command = command.strip()\n",
    "    if command == \"list\":\n",
    "        show()\n",
    "    elif command == \"add\":\n",
    "        add()\n",
    "    elif command == \"remove\":\n",
    "        remove()\n",
    "    elif command == \"update\":\n",
    "        update()\n",
    "    elif command == \"save\":\n",
    "        save()\n",
    "    elif command == \"quit\":\n",
    "        break\n",
    "    else:\n",
    "        print(\"Invalid command\", command)\n"
   ]
  },
  {
   "cell_type": "markdown",
   "metadata": {},
   "source": [
    "## Challenge #2 - Tic tac toe\n",
    "In this challenge, you have to write an interactive game of tic-tac-toe, with the following features:\n",
    "\n",
    "1. When the game starts, ask the name of the two players\n",
    "2. Starting from one of the players do the following:\n",
    "    1. Display the game grid\n",
    "    2. Print player information: current score, current player symbol (O or X)\n",
    "    3. Ask for coordinates where the player wants to play\n",
    "    4. If the player inserts valid coordinates, perform the action, otherwise ask again\n",
    "    5. Detect if player won, if not switch to the other player and go back to step (A)\n",
    "    \n",
    "The grid should be displayed like this:\n",
    "```\n",
    "     0   1   2\n",
    "    ===========\n",
    "0 |  X | O |  \n",
    "  | ---+---+---\n",
    "1 |    | X |\n",
    "  | ---+---+---\n",
    "2 |  O |   |\n",
    "```\n",
    "\n",
    "Below is a sample solution for this problem."
   ]
  },
  {
   "cell_type": "code",
   "execution_count": null,
   "metadata": {},
   "outputs": [],
   "source": [
    "# Try to implement it here or as a separate script to run manually on the terminal!\n"
   ]
  },
  {
   "cell_type": "code",
   "execution_count": null,
   "metadata": {},
   "outputs": [],
   "source": [
    "# Possible solution\n",
    "\n",
    "def create_grid():\n",
    "    \"\"\"\n",
    "    Create a new empty game grid\n",
    "    \"\"\"\n",
    "    grid = []\n",
    "    for row_num in range(3):\n",
    "        row = []\n",
    "        for col_num in range(3):\n",
    "            row.append(None)\n",
    "        grid.append(row)\n",
    "    return grid\n",
    "\n",
    "def get_player():\n",
    "    \"\"\"\n",
    "    Ask for a player name\n",
    "    \"\"\"\n",
    "    name = input(\"Insert player name: \")\n",
    "    return name\n",
    "\n",
    "def display_grid(grid):\n",
    "    \"\"\"\n",
    "    Show the game grid\n",
    "    \"\"\"\n",
    "    header_margin = \" \" * 4\n",
    "    row_margin = \"{} | \"\n",
    "    # Header\n",
    "    column_labels = \" \"\n",
    "    for i in range(3):\n",
    "        column_labels += \"{}   \".format(i)\n",
    "    column_separator = \"=\" * 11\n",
    "    print(\"{}{}\".format(header_margin, column_labels))\n",
    "    print(\"{}{}\".format(header_margin, column_separator))\n",
    "    \n",
    "    # Grid row by row\n",
    "    for row_index in range(3):\n",
    "        row = grid[row_index]\n",
    "        row_label = row_margin.format(row_index)\n",
    "        separator = row_margin.format(\" \") + \"---+---+---\"\n",
    "        row_content = \"\"\n",
    "        for i in range(3):\n",
    "            if row[i] is None:\n",
    "                value = \" \"\n",
    "            else:\n",
    "                value = row[i]\n",
    "            row_content += \" {}\".format(value)\n",
    "            if i < 2:\n",
    "                row_content += \" |\"\n",
    "        print(\"{}{}\".format(row_label, row_content))\n",
    "        if row_index < 2:\n",
    "            print(separator)\n",
    "\n",
    "while True:\n",
    "    p1 = get_player()\n",
    "    p2 = get_player()\n",
    "    if p1 == p2:\n",
    "        print(\"Player names are the same! Try again\")\n",
    "    else:\n",
    "        break\n",
    "        \n",
    "def parse_coords(cmd):\n",
    "    \"\"\"\n",
    "    Extract row and column indexes from a string in the following format:\n",
    "    <row>,<column>\n",
    "    In case of success, return a tuple of row and column indexes,\n",
    "    on failure return None\n",
    "    \"\"\"\n",
    "    parts = cmd.split(\",\")\n",
    "    if len(parts) != 2:\n",
    "        return None\n",
    "    try:\n",
    "        row = int(parts[0])\n",
    "        col = int(parts[1])\n",
    "    except ValueError:\n",
    "        return None\n",
    "    if row < 0 or row >= 3 or col < 0 or col >= 3:\n",
    "        return None\n",
    "    return (row, col)\n",
    "\n",
    "def check_won(grid, row, col):\n",
    "    symbol = grid[row][col]\n",
    "    # Check vertical\n",
    "    if (grid[0][col] == symbol and\n",
    "        grid[1][col] == symbol and\n",
    "        grid[2][col] == symbol):\n",
    "        return True\n",
    "    # Check horizontal\n",
    "    if (grid[row][0] == symbol and\n",
    "        grid[row][1] == symbol and\n",
    "        grid[row][2] == symbol):\n",
    "        return True\n",
    "    # Check diagonal\n",
    "    if row == col and (\n",
    "        grid[0][0] == symbol and\n",
    "        grid[1][1] == symbol and\n",
    "        grid[2][2] == symbol):\n",
    "        return True\n",
    "    return False\n",
    "\n",
    "game_state = {\n",
    "    \"players\": (p1, p2),\n",
    "    \"player_symbols\": {p1: \"X\", p2: \"O\"},\n",
    "    \"score\": {p1: 0, p2: 0},\n",
    "    \"current_player\": 0\n",
    "}\n",
    "done = False\n",
    "\n",
    "while not done:\n",
    "    grid = create_grid()\n",
    "    game_done = False\n",
    "    \n",
    "    print(\"Current score: \")\n",
    "    for name, score in game_state[\"score\"].items():\n",
    "        print(name, \"->\", score)\n",
    "    game_step = \"next_turn\"\n",
    "    while not game_done:\n",
    "        # While nobody won the current game\n",
    "        \n",
    "        if game_step == \"next_turn\":\n",
    "            player_id = game_state[\"current_player\"]\n",
    "            player_name = game_state[\"players\"][player_id]\n",
    "            display_grid(grid)\n",
    "            print(\"Player {} turn ({})\".format(\n",
    "                player_name,\n",
    "                game_state[\"player_symbols\"][player_name]))\n",
    "            game_step = \"player_input\"\n",
    "\n",
    "        if game_step == \"player_input\":\n",
    "            command = input(\"Insert position row,col or 'q' to quit > \")\n",
    "            if command == \"q\":\n",
    "                break\n",
    "            coords = parse_coords(command)\n",
    "            if coords is None:\n",
    "                print(\"Invalid coordinates!\")\n",
    "                # Retry\n",
    "                continue\n",
    "            row, col = coords\n",
    "            if grid[row][col] is not None:\n",
    "                print(\"Cell at row:{} col:{} is already occupied!\".format(\n",
    "                    row, col))\n",
    "                # Retry\n",
    "                continue\n",
    "\n",
    "        grid[row][col] = game_state[\"player_symbols\"][player_name]\n",
    "        # Check if somebody won\n",
    "        if check_won(grid, row, col):\n",
    "            print(\"Player\", player_name, \"wins the game!\")\n",
    "            game_state[\"score\"][player_name] += 1\n",
    "            game_done = True\n",
    "        # Switch player and continue\n",
    "        game_state[\"current_player\"] = (game_state[\"current_player\"] + 1) % 2\n",
    "        game_step = \"next_turn\"\n",
    "    \n",
    "    while True:\n",
    "        command = input(\"New game? (y/n) \")\n",
    "        if command == \"y\":\n",
    "            break\n",
    "        if command == \"n\":\n",
    "            done = True\n",
    "            break\n",
    "        "
   ]
  }
 ],
 "metadata": {
  "kernelspec": {
   "display_name": "Python 3",
   "language": "python",
   "name": "python3"
  },
  "language_info": {
   "codemirror_mode": {
    "name": "ipython",
    "version": 3
   },
   "file_extension": ".py",
   "mimetype": "text/x-python",
   "name": "python",
   "nbconvert_exporter": "python",
   "pygments_lexer": "ipython3",
   "version": "3.8.5"
  }
 },
 "nbformat": 4,
 "nbformat_minor": 4
}
