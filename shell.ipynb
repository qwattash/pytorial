{
 "cells": [
  {
   "cell_type": "markdown",
   "id": "584c6344-6664-43fe-8726-9313d387f18f",
   "metadata": {},
   "source": [
    "# Interfacing with the shell\n",
    "Python can be used to automate various tasks. This generally requires calling other programs or invoking shell commands.\n",
    "There are two modules that help making this easier: `argparse` and `invoke`. The former is a standard library module, while the other must be installed (either via pip or another package manager).\n",
    "\n",
    "We will now go into a couple of examples of how to use them and then propose some exercises.\n",
    "Useful documentation can be found at\n",
    "- [argparse](https://docs.python.org/3/library/argparse.html)\n",
    "- [invoke](http://www.pyinvoke.org/)"
   ]
  },
  {
   "cell_type": "code",
   "execution_count": 1,
   "id": "13ec87f8",
   "metadata": {},
   "outputs": [],
   "source": [
    "# This is a simple argparse example\n",
    "# The argparse module is much more flexible than this, but this is the bare minimum to get\n",
    "# useful results.\n",
    "\n",
    "import argparse as ap\n",
    "from enum import Enum\n",
    "\n",
    "class Gender(Enum):\n",
    "    MALE = \"male\"\n",
    "    FEMALE = \"female\"\n",
    "    PREFER_NOT_SAY = \"prefer-not-say\"\n",
    "    \n",
    "    def __str__(self):\n",
    "        return self.value\n",
    "\n",
    "def main(args):\n",
    "    parser = ap.ArgumentParser(description=\"Example command line interface\")\n",
    "    parser.add_argument(\"name\", type=str, help=\"This is a mandatory positional argument\")\n",
    "    parser.add_argument(\"surname\", type=str, help=\"This is another positional argument\")\n",
    "    parser.add_argument(\"-a\", \"--age\", type=int, help=\"This is a flag argument, requiring an integer value, it has both a short and a long spelling\", required=True)\n",
    "    parser.add_argument(\"-g\", \"--gender\", type=Gender, choices=list(Gender), default=Gender.PREFER_NOT_SAY,\n",
    "                        help=\"This is a fancy optional choice with a default value, the use of enum is not needed, it can also be done with plain strings or anything else really\")\n",
    "    parser.add_argument(\"--hobby\", type=str, nargs=\"+\", help=\"This is an optional value accepting 1 or more values\")\n",
    "    \n",
    "    # if you call this as parser.parse_args() it will implicitly use sys.argv as argument source.\n",
    "    # We can not do that here as we are in a notebook, if it was called from command line it would pick the arguments without having to give a list\n",
    "    parsed = parser.parse_args(args)\n",
    "    \n",
    "    hello = []\n",
    "    hello.append(\"Hello {} {}\".format(parsed.name, parsed.surname))\n",
    "    hello.append(\"you are {} years old\".format(parsed.age))\n",
    "    if parsed.gender != Gender.PREFER_NOT_SAY:\n",
    "        hello.append(\"and your gender is {}\".format(parsed.gender))\n",
    "    if parsed.hobby:\n",
    "        # parsed.hobby will be a list\n",
    "        hello.append(\"hobbies:\")\n",
    "        hello.append(\",\".join(parsed.hobby))\n",
    "    print(*hello)"
   ]
  },
  {
   "cell_type": "code",
   "execution_count": 16,
   "id": "40c917c9-d373-49dd-9095-2f7839c9bc7c",
   "metadata": {},
   "outputs": [
    {
     "name": "stdout",
     "output_type": "stream",
     "text": [
      "Hello Mickey Mouse you are 92 years old and your gender is male\n"
     ]
    }
   ],
   "source": [
    "# If this was a program called main.py it would have been called as\n",
    "# ./main.py Mickey Mouse -a 92 -g male\n",
    "main([\"Mickey\", \"Mouse\", \"-a\", \"92\", \"-g\", \"male\"])"
   ]
  },
  {
   "cell_type": "code",
   "execution_count": 18,
   "id": "08b7f7e4-dda5-4a0a-a3e1-e691a44423fb",
   "metadata": {},
   "outputs": [
    {
     "name": "stdout",
     "output_type": "stream",
     "text": [
      "Hello Roger Smith you are 600 years old hobbies: being an alien,dressing up\n"
     ]
    }
   ],
   "source": [
    "main([\"Roger\", \"Smith\", \"-a\", \"600\", \"--hobby\", \"being an alien\", \"dressing up\"])"
   ]
  },
  {
   "cell_type": "code",
   "execution_count": 19,
   "id": "f090aedd-304e-4284-ab2b-4e321ff8e45e",
   "metadata": {},
   "outputs": [
    {
     "name": "stderr",
     "output_type": "stream",
     "text": [
      "usage: ipykernel_launcher.py [-h] -a AGE [-g {male,female,prefer-not-say}]\n",
      "                             [--hobby HOBBY [HOBBY ...]]\n",
      "                             name surname\n",
      "ipykernel_launcher.py: error: the following arguments are required: surname, -a/--age\n"
     ]
    },
    {
     "ename": "SystemExit",
     "evalue": "2",
     "output_type": "error",
     "traceback": [
      "An exception has occurred, use %tb to see the full traceback.\n",
      "\u001b[0;31mSystemExit\u001b[0m\u001b[0;31m:\u001b[0m 2\n"
     ]
    }
   ],
   "source": [
    "# If and invalid set of arguments is given, or the -h option is given, the parsing fails and an usage string is printed out\n",
    "main([\"Roger\"])"
   ]
  },
  {
   "cell_type": "markdown",
   "id": "d74ec62f-138b-4311-bccd-560fbfe90e62",
   "metadata": {},
   "source": [
    "## Exercise 1\n",
    "Use argparse to create a script that mimics the interface to an email system. It should have the following features:\n",
    "1. The user must specify an username and a password (Note that for the purposes of this exercise it is fine to use a command line argument for the password, although it is a bad idea to do so because it will be saved in plain text into the shell history)\n",
    "    He does so via positional arguments #0 and #1.\n",
    "2. The user selects an operation between: sending, receiving or deleting messages. He does so using a command for the choices \"send\", \"receive\", \"delete\".\n",
    "    **Note: look up the subparsers in the documentation linked above.**\n",
    "3. When sending he must specify also the --message option with the message and optionally --subject with the subject\n",
    "4. When receiving he must not specify any other option\n",
    "5. When deleting he may specify the number of the message to delete via --msgnum, if not all messages are deleted\n",
    "\n",
    "You do not need to implement the functionality behind all of this, just use the following skeleton as a sample."
   ]
  },
  {
   "cell_type": "code",
   "execution_count": 86,
   "id": "71a8bbcf-6168-441f-8c5d-9962ae407008",
   "metadata": {},
   "outputs": [],
   "source": [
    "## Skeleton functions\n",
    "\n",
    "import random\n",
    "import lorem\n",
    "\n",
    "messages = []\n",
    "\n",
    "def send(args):\n",
    "    print(\"Sending subject={} {}\".format(args.subject, args.message))\n",
    "    messages.append((args.subject, args.message))\n",
    "    \n",
    "def recv(args):\n",
    "    for _ in range(random.randint(1, 5)):\n",
    "        messages.append((lorem.sentence(), lorem.paragraph()))\n",
    "    print(\"Got messages:\")\n",
    "    for i,(s,m) in enumerate(messages):\n",
    "        print(i, \"[{}]\".format(s), m)\n",
    "\n",
    "def delete(args):\n",
    "    if args.msgnum and args.msgnum > 0 and args.msgnum < len(messages):\n",
    "        del messages[args.msgnum]\n",
    "    else:\n",
    "        messages.clear()"
   ]
  },
  {
   "cell_type": "code",
   "execution_count": 87,
   "id": "ad19e304-e280-4b96-9166-005e76d2092b",
   "metadata": {},
   "outputs": [],
   "source": [
    "## A solution\n",
    "\n",
    "class Ops(Enum):\n",
    "    SEND = \"send\"\n",
    "    RECEIVE = \"receive\"\n",
    "    DELETE = \"delete\"\n",
    "    \n",
    "    def __str__(self):\n",
    "        return self.value\n",
    "\n",
    "\n",
    "def solution1(args):\n",
    "    parser = ap.ArgumentParser(description=\"Solution #1\")\n",
    "    parser.add_argument(\"username\", type=str, help=\"The user name\")\n",
    "    parser.add_argument(\"password\", type=str, help=\"The password\")\n",
    "    # Sadly we can't use type=Ops here, there are workarounds but they are all ugly\n",
    "    sub = parser.add_subparsers(dest=\"operation\", help=\"Operations\", required=True)\n",
    "    \n",
    "    sender = sub.add_parser(str(Ops.SEND), help=\"Send messages\")\n",
    "    sender.add_argument(\"--subject\", type=str, help=\"Subject\")\n",
    "    sender.add_argument(\"--message\", type=str, required=True, help=\"The message\")\n",
    "\n",
    "    receiver = sub.add_parser(str(Ops.RECEIVE), help=\"Receive messages\")\n",
    "\n",
    "    deleter = sub.add_parser(str(Ops.DELETE), help=\"Delete messages\")\n",
    "    deleter.add_argument(\"--msgnum\", type=int, help=\"Message number to trash\")\n",
    "    \n",
    "    parsed = parser.parse_args(args)\n",
    "    parsed.operation = Ops(parsed.operation)\n",
    "    \n",
    "    if parsed.operation == Ops.SEND:\n",
    "        send(parsed)\n",
    "    elif parsed.operation == Ops.RECEIVE:\n",
    "        recv(parsed)\n",
    "    elif parsed.operation == Ops.DELETE:\n",
    "        delete(parsed)\n",
    "    else:\n",
    "        assert False, \"Should not be reached\""
   ]
  },
  {
   "cell_type": "code",
   "execution_count": 88,
   "id": "d1c1d4af-4364-4151-a32f-8fe57c685bcf",
   "metadata": {},
   "outputs": [
    {
     "name": "stdout",
     "output_type": "stream",
     "text": [
      "Sending subject=None Hello there\n",
      "Got messages:\n",
      "0 [Tempora quiquia dolor magnam.] Labore dolor ut consectetur magnam ipsum voluptatem. Neque sed dolorem labore adipisci consectetur non ut. Tempora ut ut dolore magnam voluptatem consectetur. Aliquam porro etincidunt etincidunt dolorem ut amet. Dolorem labore tempora est aliquam non.\n",
      "1 [Eius quisquam aliquam quaerat labore dolore.] Voluptatem adipisci non non dolor tempora velit. Modi etincidunt ut consectetur ipsum. Consectetur etincidunt ut neque aliquam est porro sed. Velit dolorem quiquia neque ut ut ut. Porro labore consectetur labore magnam sed. Eius dolore ut adipisci. Quisquam numquam dolorem non voluptatem dolore sit modi.\n"
     ]
    }
   ],
   "source": [
    "solution1([\"uname\", \"MyPa$$w0rd\", \"send\", \"--message\", \"Hello there\"])\n",
    "solution1([\"uname\", \"MyPa$$w0rd\", \"delete\"])\n",
    "solution1([\"uname\", \"MyPa$$w0rd\", \"receive\"])\n",
    "solution1([\"uname\", \"MyPa$$w0rd\", \"delete\", \"--msgnum\", \"1\"])"
   ]
  },
  {
   "cell_type": "code",
   "execution_count": null,
   "id": "8f8d21a4-3f70-4128-b806-e5d59ef0d017",
   "metadata": {},
   "outputs": [],
   "source": []
  }
 ],
 "metadata": {
  "kernelspec": {
   "display_name": "Python 3 (ipykernel)",
   "language": "python",
   "name": "python3"
  },
  "language_info": {
   "codemirror_mode": {
    "name": "ipython",
    "version": 3
   },
   "file_extension": ".py",
   "mimetype": "text/x-python",
   "name": "python",
   "nbconvert_exporter": "python",
   "pygments_lexer": "ipython3",
   "version": "3.9.6"
  }
 },
 "nbformat": 4,
 "nbformat_minor": 5
}
