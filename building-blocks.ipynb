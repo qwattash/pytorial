{
 "cells": [
  {
   "cell_type": "markdown",
   "id": "261ce34f",
   "metadata": {},
   "source": [
    "# Custom types and modules\n",
    "Now that we skimmed through the basic language features, let's introduce classes and modules.\n",
    "Classes provide an abstraction mechanism to create custom object holding certain associated values and operations.\n",
    "Modules are essentially a way to bundle and distribute code that can be reused.\n",
    "We start by introducing the basic concepts and language syntax for classes and modules, then the rest of the tutorial is built around a toy project that will be developed and extended as\n",
    "a set of exercises and step-by-step examples. We will develop a client-server chat service that we use as a way to show how to think about framing a problem and solving it with python code.\n",
    "\n",
    "## Classes and objects\n",
    "An class represents the description of a data type. Every type in python has a corresponding (possibly built-in) class that describes the set of operations that can be performed on the type.\n",
    "The class is then used to create instances of a type, just like we created dictionaries ad lists before. An instance of a class is usually referred to as an object."
   ]
  },
  {
   "cell_type": "code",
   "execution_count": null,
   "id": "1ec9c14b",
   "metadata": {},
   "outputs": [],
   "source": [
    "a_dict = dict() # create instance of dict class.\n",
    "\n",
    "print(type({}))\n",
    "print(type([]))"
   ]
  },
  {
   "cell_type": "markdown",
   "id": "482d4473",
   "metadata": {},
   "source": [
    "Now this gives us the ability to create custom types that have whatever behaviour we desire. Generally speaking a class is useful to:\n",
    "- Encapsulate implementation details behind an interface, so that the rest of the program does not need to be aware of how some operation is performed.\n",
    "- Partition the responsibilility of handling a task within the program.\n",
    "- Abstract operations on different kinds of objects and present an uniform interface to the rest of the program.\n",
    "\n",
    "If this sounds very generic, it is. These concepts will hopefully become clearer as we start our toy project.\n",
    "\n",
    "The way we go about creating a class, is by using the `class` keyword."
   ]
  },
  {
   "cell_type": "code",
   "execution_count": null,
   "id": "fd1bced7",
   "metadata": {},
   "outputs": [],
   "source": [
    "class MyClass:\n",
    "    pass\n",
    "\n",
    "my_instance = MyClass()\n",
    "print(my_instance)"
   ]
  },
  {
   "cell_type": "markdown",
   "id": "5884a294",
   "metadata": {},
   "source": [
    "We can define functions associated to objects of our class. When we do so, the first argument to the function is always implicitly set to a reference to the instance on which the function operates, the argument is generally called `self`.\n",
    "Note that the `self` parameter is implicit and does not need to be given when calling the function on the `my_instance` object, this is because it would be redundant, as the value of `self` is the object on which the function is called, and it is always the one at the left-hand side of the `.` operator.\n",
    "\n",
    "A function defined by a class is called a *method* of that class."
   ]
  },
  {
   "cell_type": "code",
   "execution_count": null,
   "id": "2b8aa970",
   "metadata": {},
   "outputs": [],
   "source": [
    "class MyClass:\n",
    "    def do_something(self):\n",
    "        print(\"MyClass instance is doing something\")\n",
    "        \n",
    "my_instance = MyClass()\n",
    "my_instance.do_something()"
   ]
  },
  {
   "cell_type": "markdown",
   "id": "b46603cf",
   "metadata": {},
   "source": [
    "There is a set of special function names beginning and ending with a duble underscore `__something__`, these are used to mark functions that have special meaning in the python language.\n",
    "One of these magic functions is the *constructor*, that is the function called to initialize the new class instance when it is created."
   ]
  },
  {
   "cell_type": "code",
   "execution_count": null,
   "id": "ab7698c5",
   "metadata": {},
   "outputs": [],
   "source": [
    "class MyClass:\n",
    "    def __init__(self):\n",
    "        print(\"I am the constructor!\")\n",
    "    \n",
    "    def do_something(self):\n",
    "        print(\"Doing something\")\n",
    "        \n",
    "my_instance = MyClass() # this invokes the constructor\n",
    "my_instance.do_something()"
   ]
  },
  {
   "cell_type": "markdown",
   "id": "cbf5dc1f",
   "metadata": {},
   "source": [
    "More of these magic methods can be found on the python [documentation](https://docs.python.org/3/reference/datamodel.html)."
   ]
  },
  {
   "cell_type": "markdown",
   "id": "430d7fb9",
   "metadata": {},
   "source": [
    "Instances of classes can also keep state, in the form of variables associated with an object. These member variables are usually called *properties* or *attributes* of an object and are accessed via the `.` operator on the object.\n",
    "Attributes are usually defined and initialized in the constructor of the class, this will ensure that the name is always defined on new instances. However you can set new attributes on an object just by assigning to them."
   ]
  },
  {
   "cell_type": "code",
   "execution_count": null,
   "id": "f70da844",
   "metadata": {},
   "outputs": [],
   "source": [
    "class MyClass:\n",
    "    def __init__(self):\n",
    "        self.my_property = 150\n",
    "        print(\"I am the constructor!\")\n",
    "        \n",
    "my_instance = MyClass() # this invokes the constructor\n",
    "\n",
    "# hasattr() is a built-in function that checks whether an attribute with the given name exists on the object\n",
    "print(\"check for my_property:\", hasattr(my_instance, \"my_property\"))\n",
    "print(\"check for other_thing:\", hasattr(my_instance, \"other_thing\"))\n",
    "\n",
    "print(\"my property is:\", my_instance.my_property)\n",
    "# print(my_instance.other_thing) # this will fail because my_instance does not yet have any property named other_thing\n",
    "\n",
    "# now we create the new attribute\n",
    "my_instance.other_thing = \"something else\"\n",
    "print(\"new attribute created:\", my_instance.other_thing)"
   ]
  },
  {
   "cell_type": "markdown",
   "id": "b435f784",
   "metadata": {},
   "source": [
    "You will notice that methods associated to a given objects are also attributes, and as such can be read and written to. Calling the function is in reality just applying the `()` call operator on the content of the attribute with the function name.\n",
    "Now methods are not just plain functions shoved into an attribute, this is because they are bound to the class instance, meaning that the `self` parameter will be managed for you."
   ]
  },
  {
   "cell_type": "markdown",
   "id": "fca61335",
   "metadata": {},
   "source": [
    "Now we want to have the class do something useful, let's say we want to create a class representing a point in 2D space."
   ]
  },
  {
   "cell_type": "code",
   "execution_count": null,
   "id": "3124e036",
   "metadata": {},
   "outputs": [],
   "source": [
    "class Point:\n",
    "    def __init__(self, x, y):\n",
    "        self.x = x\n",
    "        self.y = y\n",
    "        \n",
    "    def add(self, other):\n",
    "        self.x += other.x\n",
    "        self.y += other.y\n",
    "        \n",
    "p = Point(10, 10)\n",
    "q = Point(1, 2)\n",
    "p.add(q)\n",
    "print(p.x, p.y)"
   ]
  },
  {
   "cell_type": "code",
   "execution_count": null,
   "id": "439abb2b",
   "metadata": {},
   "outputs": [],
   "source": [
    "################################# EXPERIMENT #################################\n",
    "# Modify the point class to do the following:\n",
    "# 1. Make the constructor x and y arguments optional, and initialize them to 0 if they are not given\n",
    "# 2. Add a new method to subtract a point from another\n",
    "# 3. Add a pretty print method that converts a Point object to string suitable for printing and converting to a string using the str() built-in. (hint: use the magic __str__() method)"
   ]
  },
  {
   "cell_type": "markdown",
   "id": "c6b9bfb6",
   "metadata": {},
   "source": [
    "### Attribute visibility\n",
    "Another important topic regarding classes is the fact that they are used to hide implementation details from the user of the class.\n",
    "Let's continue the example using the Point class. We can think of many ways in which we can store the point coordinates, for instance we could store them as attributes as above, or we may prefer to store them in a list.\n",
    "This decision however affects how the use of the class accesses the coordinates, this is because we chose to make the object state concerning the coordinates visible from outside the class (or **public**).\n",
    "Note that in this specific case it may seem trivial, but it can easily impose unnecessary constraints and complication because now other parts of the code are _aware_ and _rely_ upon the internal state of the object being this way.\n",
    "If we wanted to switch from storing coordinates as attributes to storing them into an array, we would have to modify every single use in the code."
   ]
  },
  {
   "cell_type": "code",
   "execution_count": null,
   "id": "0fedde99",
   "metadata": {},
   "outputs": [],
   "source": [
    "class PointWithAttr:\n",
    "    def __init__(self, x, y):\n",
    "        self.x = x\n",
    "        self.y = y\n",
    "        \n",
    "class PointWithList:\n",
    "    def __init__(self, x, y):\n",
    "        self.coords = [x, y]\n",
    "        \n",
    "# Note that the two implementations are not compatible, and yet they represent the exact same data\n",
    "p = PointWithAttr(1, 2)\n",
    "q = PointWithList(3, 4)\n",
    "print(p.x, p.y)\n",
    "print(q.coords[0], q.coords[1])"
   ]
  },
  {
   "cell_type": "markdown",
   "id": "1919d990",
   "metadata": {},
   "source": [
    "The idea of making internal implementation details invisible from the user of the class is achieved by making the relevant attributes **private** members of the class.\n",
    "This means that they are removed from the public interface of the class and whoever uses instances of the class can not access them directly, but only via class methods.\n",
    "In python **private** class properties and methods are somewhat awkward, as the language does not have proper `private` keyword, instead there are two ways in which an attribute is treated as private:\n",
    "1. Attributes beginning with a single underscore (as in `_foo`) are treated as private **by convention**, meaning that if you see one you can still access it but the designer of the code intended to treat it as an implementation detail an it may change without any notice in different versions of the code, breaking your code. This is the way most people handle private members and is widely agreed upon.\n",
    "2. Attributes beginning with a double underscore and at most one trailing underscore have their name automatically prefixed by something (which depends on the python implementation, usually the class name), so that accessing the name from outside the class will not find the attribute with the original name."
   ]
  },
  {
   "cell_type": "code",
   "execution_count": null,
   "id": "6fea0abe",
   "metadata": {},
   "outputs": [],
   "source": [
    "class Point:\n",
    "    def __init__(self, x, y):\n",
    "        self._coords = {\"x\": x, \"y\": y}\n",
    "        \n",
    "    def get_x(self):\n",
    "        return self._coords[\"x\"]\n",
    "    def set_x(self, v):\n",
    "        self._coords[\"x\"] = v\n",
    "        \n",
    "    def get_y(self):\n",
    "        return self._coords[\"y\"]\n",
    "    def set_y(self, v):\n",
    "        self._coords[\"y\"] = v\n",
    "        \n",
    "p = Point(10, 20)\n",
    "print(\"My point (\", p.get_x(), p.get_y(), \")\")"
   ]
  },
  {
   "cell_type": "code",
   "execution_count": null,
   "id": "de759619",
   "metadata": {},
   "outputs": [],
   "source": [
    "################################# EXPERIMENT #################################\n",
    "# Change the Point class back to using two private x and y attributes to store the coordinates\n",
    "# **without** changing the interface of the class (meaning the set of publicly visible functions used to access the attributes)\n",
    "# so that the constructor and print statement below remain working."
   ]
  },
  {
   "cell_type": "markdown",
   "id": "94413aa3",
   "metadata": {},
   "source": [
    "### Inheritance"
   ]
  },
  {
   "cell_type": "markdown",
   "id": "a1f14223",
   "metadata": {},
   "source": [
    "The idea of inheritance between two classes establishes an *is-a* relationship between them, where a child class *inherits* the methods and attributes of a parent class.\n",
    "For the sake of simplicity, let's make a class to represent animals. Now we want to have cats and dogs, each of them *is an animal* so it makes sense for the Cat and Dog classes to inherit from Animal and share its interface, meaning that they both will have a speed and will have a name, but only cats will `meaow()` and only dogs will `bark()`."
   ]
  },
  {
   "cell_type": "code",
   "execution_count": null,
   "id": "93a47d17",
   "metadata": {},
   "outputs": [],
   "source": [
    "class Animal:\n",
    "    def __init__(self, speed):\n",
    "        self.speed = speed\n",
    "        \n",
    "    def get_name(self):\n",
    "        return \"I don't have a name :(\"\n",
    "        \n",
    "    def move(self):\n",
    "        print(\"Moving at \", self.speed)\n",
    "        \n",
    "class Cat(Animal):\n",
    "    def __init__(self):\n",
    "        # super() provides a reference to the next parent class in the\n",
    "        # inheritance chain (well graph, when considering multiple inheritance)\n",
    "        super().__init__(5)\n",
    "        \n",
    "    # Note that this method redefines the get_name function and hides the parent's implementation\n",
    "    def get_name(self):\n",
    "        return \"I am a cat\"\n",
    "    \n",
    "    def meaow(self):\n",
    "        print(\"Meaow!\")\n",
    "        \n",
    "class Dog(Animal):\n",
    "    def __init__(self):\n",
    "        super().__init__(4)\n",
    "    \n",
    "    def get_name(self):\n",
    "        return \"I am a dog\"\n",
    "    \n",
    "    def bark(self):\n",
    "        print(\"Woof!\")\n",
    "        \n",
    "cat = Cat()\n",
    "dog = Dog()\n",
    "animals = [cat, dog]\n",
    "for a in animals:\n",
    "    print(a.get_name())\n",
    "    # Note that move() here will call Animal.move, which is inherited by both Cat and Dog\n",
    "    a.move()"
   ]
  },
  {
   "cell_type": "markdown",
   "id": "46d4569e",
   "metadata": {},
   "source": [
    "## Challenge #1 - Geometry shapes\n",
    "Write a program that allows you to select a shape, enter its measures and the color. It will output the perimeter and area as a result.\n",
    "The program should support the following shapes: circle, square, rectangle.\n"
   ]
  },
  {
   "cell_type": "code",
   "execution_count": null,
   "id": "6870189e",
   "metadata": {},
   "outputs": [],
   "source": [
    "# Try to implement it here or as a separate script to run manually on the terminal!"
   ]
  },
  {
   "cell_type": "code",
   "execution_count": null,
   "id": "beac5a44",
   "metadata": {
    "jupyter": {
     "source_hidden": true
    },
    "tags": []
   },
   "outputs": [],
   "source": [
    "# Possible solution\n",
    "\n",
    "def get_int(prompt):\n",
    "    while True:\n",
    "        try:\n",
    "            return int(input(prompt))\n",
    "        except ValueError:\n",
    "            print(\"Invalid value\")\n",
    "\n",
    "class Shape:\n",
    "    def __init__(self):\n",
    "        self.color = input(\"Enter color\")\n",
    "        \n",
    "    def area(self):\n",
    "        return self._calc_area()\n",
    "        \n",
    "    def perimeter(self):\n",
    "        return self._calc_perimeter()\n",
    "\n",
    "\n",
    "class Circle(Shape):\n",
    "    def __init__(self):\n",
    "        super().__init__()\n",
    "        self.radius = get_int(\"Enter radius\")\n",
    "                \n",
    "    def _calc_perimeter(self):\n",
    "        return 3.14 * 2 * self.radius\n",
    "    \n",
    "    def _calc_area(self):\n",
    "        return 3.14 * self.radius**2\n",
    "    \n",
    "    def __str__(self):\n",
    "        return \"circle\"\n",
    "\n",
    "\n",
    "class Rectangle(Shape):\n",
    "    def __init__(self):\n",
    "        super().__init__()\n",
    "        self.width = None\n",
    "        self.height = None\n",
    "        self._ask_sides()\n",
    "        \n",
    "    def _ask_sides(self):\n",
    "        self.width = get_int(\"Enter width\")\n",
    "        self.height = get_int(\"Enter height\")\n",
    "        \n",
    "    def _calc_perimeter(self):\n",
    "        return 2 * (self.width + self.height)\n",
    "    \n",
    "    def _calc_area(self):\n",
    "        return self.width * self.height\n",
    "    \n",
    "    def __str__(self):\n",
    "        return \"rectangle\"\n",
    "\n",
    "\n",
    "class Square(Rectangle):        \n",
    "    def _ask_sides(self):\n",
    "        self.width = self.height = get_int(\"Enter side\")\n",
    "        \n",
    "    def __str__(self):\n",
    "        return \"square\"\n",
    "\n",
    "\n",
    "while True:\n",
    "    shape_name = input(\"Insert shape name or blank to quit\")\n",
    "    if shape_name == \"\":\n",
    "        break\n",
    "    if shape_name == \"circle\":\n",
    "        shape = Circle()\n",
    "    elif shape_name == \"square\":\n",
    "        shape = Square()\n",
    "    elif shape_name == \"rectangle\":\n",
    "        shape = Rectangle()\n",
    "    else:\n",
    "        continue\n",
    "\n",
    "    print(\"{} {}: perimeter={} area={}\".format(shape.color, shape, shape.perimeter(), shape.area()))\n",
    "    "
   ]
  }
 ],
 "metadata": {
  "kernelspec": {
   "display_name": "Python 3",
   "language": "python",
   "name": "python3"
  },
  "language_info": {
   "codemirror_mode": {
    "name": "ipython",
    "version": 3
   },
   "file_extension": ".py",
   "mimetype": "text/x-python",
   "name": "python",
   "nbconvert_exporter": "python",
   "pygments_lexer": "ipython3",
   "version": "3.9.2"
  }
 },
 "nbformat": 4,
 "nbformat_minor": 5
}
