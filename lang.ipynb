{
 "cells": [
  {
   "cell_type": "markdown",
   "metadata": {},
   "source": [
    "# Language Features\n",
    "We will now create our first python script. As usual in programming tutorial, we will just print the text \"Hello World!\".\n",
    "In this chapter we will learn the basic constructs of the language, which allow to express the various algorithms you want to implement.\n",
    "\n",
    "- Hello world\n",
    "- How to avoid the hatred of your future self\n",
    "- The outside world is your friend\n",
    "- Basic language gotchas\n",
    "- Control flow\n",
    "- Splitting and reusing your code\n",
    "\n",
    "## Hello World\n",
    "Let us now analyze a simple helloworld, I will then explain what it does line by line, to introduce the basic notions of the language."
   ]
  },
  {
   "cell_type": "code",
   "execution_count": 1,
   "metadata": {},
   "outputs": [
    {
     "name": "stdout",
     "output_type": "stream",
     "text": [
      "Hello World\n"
     ]
    }
   ],
   "source": [
    "# This is a python Hello World script\n",
    "\n",
    "print(\"Hello World\")"
   ]
  },
  {
   "cell_type": "markdown",
   "metadata": {},
   "source": [
    "In Python the source file is evaluated from top to bottom, the interpreter reads each line and perform whatever action it specifes (e.g. print something or define something).\n",
    "\n",
    "**Line 1**\n",
    "Lines starting with `#` are called *comments* and are ignored, these are designed to let you add contextual information to simplify maintenance and make the code easier to understand.\n",
    "\n",
    "**Line 2**\n",
    "`print()` is a built-in *function* provided by the interpreter, the syntax `myfunction()` denotes a *function call*: it tells the interpreter to execute the function named \"myfunction\" and pass to it the *arguments* enclosed in braces. In this case there is only one argument, which is a piece of text and is represented by enclosing the text in `\"...\"`."
   ]
  },
  {
   "cell_type": "markdown",
   "metadata": {},
   "source": [
    "## HELP\n",
    "Before digging anymore in the language features, I want to introduce you to `help()`.\n",
    "The help builtin does exactly what it promises: it provides useful descriptions of what various things do.\n",
    "For now you only know that built-ins exist, so for instance you could get information about `print()` if you did not remember what it does."
   ]
  },
  {
   "cell_type": "code",
   "execution_count": 5,
   "metadata": {},
   "outputs": [
    {
     "name": "stdout",
     "output_type": "stream",
     "text": [
      "Help on built-in function print in module builtins:\n",
      "\n",
      "print(...)\n",
      "    print(value, ..., sep=' ', end='\\n', file=sys.stdout, flush=False)\n",
      "    \n",
      "    Prints the values to a stream, or to sys.stdout by default.\n",
      "    Optional keyword arguments:\n",
      "    file:  a file-like object (stream); defaults to the current sys.stdout.\n",
      "    sep:   string inserted between values, default a space.\n",
      "    end:   string appended after the last value, default a newline.\n",
      "    flush: whether to forcibly flush the stream.\n",
      "\n"
     ]
    }
   ],
   "source": [
    "help(print)"
   ]
  },
  {
   "cell_type": "markdown",
   "metadata": {},
   "source": [
    "The output may be a bit more complex than you would have expected, but in due course you will manage to understand everything it says.\n",
    "Actually `help()` is much more helpful than that, its output can be customized for the objects that you will define. We will get to that when we will cover commenting and documenting your code."
   ]
  },
  {
   "cell_type": "markdown",
   "metadata": {},
   "source": [
    "## Naming things!\n",
    "One of the fundamental things we expect to be able to do is labelling objects.\n",
    "For instance, suppose that we are writing a calculator and we want to sum two numbers that the user inputs:"
   ]
  },
  {
   "cell_type": "code",
   "execution_count": 8,
   "metadata": {},
   "outputs": [
    {
     "name": "stdout",
     "output_type": "stream",
     "text": [
      "Help on method raw_input in module ipykernel.kernelbase:\n",
      "\n",
      "raw_input(prompt='') method of ipykernel.ipkernel.IPythonKernel instance\n",
      "    Forward raw_input to frontends\n",
      "    \n",
      "    Raises\n",
      "    ------\n",
      "    StdinNotImplentedError if active frontend doesn't support stdin.\n",
      "\n"
     ]
    }
   ],
   "source": [
    "# First of all, let's see how the built-in to read user input works\n",
    "help(input)"
   ]
  },
  {
   "cell_type": "code",
   "execution_count": 9,
   "metadata": {},
   "outputs": [
    {
     "name": "stdin",
     "output_type": "stream",
     "text": [
      "a =  10\n",
      "b =  20\n"
     ]
    },
    {
     "data": {
      "text/plain": [
       "'20'"
      ]
     },
     "execution_count": 9,
     "metadata": {},
     "output_type": "execute_result"
    }
   ],
   "source": [
    "input(\"a = \")\n",
    "input(\"b = \")\n",
    "# and now? how do we get the numbers the user inserted?"
   ]
  },
  {
   "cell_type": "markdown",
   "metadata": {},
   "source": [
    "Introducing *variables*! Variables are the way we assign labels to objects and we do so in a very straightforward way:"
   ]
  },
  {
   "cell_type": "code",
   "execution_count": 11,
   "metadata": {},
   "outputs": [
    {
     "name": "stdin",
     "output_type": "stream",
     "text": [
      "a =  10\n",
      "b =  20\n"
     ]
    },
    {
     "name": "stdout",
     "output_type": "stream",
     "text": [
      "10\n",
      "20\n"
     ]
    }
   ],
   "source": [
    "a = input(\"a = \")\n",
    "whatever = input(\"b = \")\n",
    "print(a)\n",
    "print(whatever)"
   ]
  },
  {
   "cell_type": "markdown",
   "metadata": {},
   "source": [
    "At this point you may ask what properties the value pointed by `a` has. Is it a number? Can I add it to a number? I mean, what can I do with it?\n",
    "These properties are represented by the *type* of an object, and of the variable that points to it.\n",
    "Two common types are:\n",
    "- *string*: text data, sequences of letters (characters)\n",
    "- *numbers*: which can be *integers* like 1, 10, 200 or *floats* like 3.14 and 1.655\n",
    "\n",
    "These types generally do what you would expect in terms of operations:"
   ]
  },
  {
   "cell_type": "code",
   "execution_count": 15,
   "metadata": {},
   "outputs": [
    {
     "name": "stdout",
     "output_type": "stream",
     "text": [
      "One 1\n",
      "Also one 1\n",
      "One but floating point 1.0\n",
      "Plus 3\n",
      "Minus 1\n",
      "Mul 12\n",
      "Div 5.333333333333333\n",
      "Power 15.588457268119896\n"
     ]
    }
   ],
   "source": [
    "# Numbers\n",
    "print(\"One\", 1)\n",
    "print(\"Also one\", int(1))\n",
    "print(\"One but floating point\", float(1))\n",
    "print(\"Plus\", 1 + 2)\n",
    "print(\"Minus\", 4 - 3)\n",
    "print(\"Mul\", 3 * 4)\n",
    "print(\"Div\", 16 / 3)\n",
    "print(\"Power\", 3**2.5)"
   ]
  },
  {
   "cell_type": "code",
   "execution_count": 24,
   "metadata": {},
   "outputs": [
    {
     "name": "stdout",
     "output_type": "stream",
     "text": [
      "Concatenate: 1010\n",
      "Convert a string to int: 11\n",
      "Convert int to string: Twenty 20\n"
     ]
    }
   ],
   "source": [
    "# Strings\n",
    "print(\"Concatenate:\", \"10\" + \"10\")\n",
    "print(\"Convert a string to int:\", int(\"10\") + 1)\n",
    "print(\"Convert int to string:\", \"Twenty \" + str(20))"
   ]
  },
  {
   "cell_type": "markdown",
   "metadata": {},
   "source": [
    "There are also some things that you can not do!"
   ]
  },
  {
   "cell_type": "code",
   "execution_count": 18,
   "metadata": {},
   "outputs": [
    {
     "ename": "TypeError",
     "evalue": "can't multiply sequence by non-int of type 'str'",
     "output_type": "error",
     "traceback": [
      "\u001b[0;31m---------------------------------------------------------------------------\u001b[0m",
      "\u001b[0;31mTypeError\u001b[0m                                 Traceback (most recent call last)",
      "\u001b[0;32m<ipython-input-18-a1fb5cd5e6a6>\u001b[0m in \u001b[0;36m<module>\u001b[0;34m\u001b[0m\n\u001b[0;32m----> 1\u001b[0;31m \u001b[0mprint\u001b[0m\u001b[0;34m(\u001b[0m\u001b[0;34m\"10\"\u001b[0m \u001b[0;34m*\u001b[0m \u001b[0;34m\"10\"\u001b[0m\u001b[0;34m)\u001b[0m\u001b[0;34m\u001b[0m\u001b[0m\n\u001b[0m",
      "\u001b[0;31mTypeError\u001b[0m: can't multiply sequence by non-int of type 'str'"
     ]
    }
   ],
   "source": [
    "print(\"10\" * \"10\")"
   ]
  },
  {
   "cell_type": "markdown",
   "metadata": {},
   "source": [
    "And less obvious ones. What do you think the output of the next line is?"
   ]
  },
  {
   "cell_type": "code",
   "execution_count": 19,
   "metadata": {},
   "outputs": [
    {
     "name": "stdout",
     "output_type": "stream",
     "text": [
      "1010\n"
     ]
    }
   ],
   "source": [
    "print(\"10\" * 2)"
   ]
  },
  {
   "cell_type": "markdown",
   "metadata": {},
   "source": [
    "A string is also a sequence, for which the multiplication operation by an integer repeats the sequence N times!\n",
    "\n",
    "Time for an exercise now. Write a small script that gets two numbers as inputs and prints out their sum, difference, multiplication and quotient."
   ]
  },
  {
   "cell_type": "markdown",
   "metadata": {},
   "source": [
    "## If the milk is cold, heat it up\n",
    "Sometimes you want to do something when some condition holds."
   ]
  },
  {
   "cell_type": "code",
   "execution_count": null,
   "metadata": {},
   "outputs": [],
   "source": []
  }
 ],
 "metadata": {
  "kernelspec": {
   "display_name": "Python 3",
   "language": "python",
   "name": "python3"
  },
  "language_info": {
   "codemirror_mode": {
    "name": "ipython",
    "version": 3
   },
   "file_extension": ".py",
   "mimetype": "text/x-python",
   "name": "python",
   "nbconvert_exporter": "python",
   "pygments_lexer": "ipython3",
   "version": "3.5.3"
  }
 },
 "nbformat": 4,
 "nbformat_minor": 2
}
