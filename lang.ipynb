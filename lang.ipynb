{
 "cells": [
  {
   "cell_type": "markdown",
   "metadata": {},
   "source": [
    "# Language Features\n",
    "We will now create our first python script. As usual in programming tutorial, we will just print the text \"Hello World!\".\n",
    "In this chapter we will learn the basic constructs of the language, which allow to express the various algorithms you want to implement.\n",
    "\n",
    "## Hello World\n",
    "Let us now analyze a simple helloworld, I will then explain what it does line by line, to introduce the basic notions of the language."
   ]
  },
  {
   "cell_type": "code",
   "execution_count": null,
   "metadata": {},
   "outputs": [],
   "source": [
    "# This is a python Hello World script\n",
    "\n",
    "print(\"Hello World\")"
   ]
  },
  {
   "cell_type": "markdown",
   "metadata": {},
   "source": [
    "In Python the source file is evaluated from top to bottom, the interpreter reads each line and perform whatever action it specifes (e.g. print something or define something).\n",
    "\n",
    "**Line 1**\n",
    "Lines starting with `#` are called *comments* and are ignored, these are designed to let you add contextual information to simplify maintenance and make the code easier to understand.\n",
    "\n",
    "**Line 2**\n",
    "`print()` is a built-in *function* provided by the interpreter, the syntax `myfunction()` denotes a *function call*: it tells the interpreter to execute the function named \"myfunction\" and pass to it the *arguments* enclosed in braces. In this case there is only one argument, which is a piece of text and is represented by enclosing the text in `\"...\"`."
   ]
  },
  {
   "cell_type": "markdown",
   "metadata": {},
   "source": [
    "## HELP\n",
    "Before digging anymore in the language features, I want to introduce you to `help()`.\n",
    "The help builtin does exactly what it promises: it provides useful descriptions of what various things do.\n",
    "For now you only know that built-ins exist, so for instance you could get information about `print()` if you did not remember what it does."
   ]
  },
  {
   "cell_type": "code",
   "execution_count": null,
   "metadata": {},
   "outputs": [],
   "source": [
    "help(print)"
   ]
  },
  {
   "cell_type": "markdown",
   "metadata": {},
   "source": [
    "The output may be a bit more complex than you would have expected, but in due course you will manage to understand everything it says.\n",
    "Actually `help()` is much more helpful than that, its output can be customized for the objects that you will define. We will get to that when we will cover commenting and documenting your code."
   ]
  },
  {
   "cell_type": "markdown",
   "metadata": {},
   "source": [
    "## Naming things!\n",
    "One of the fundamental things we expect to be able to do is labelling objects.\n",
    "For instance, suppose that we are writing a calculator and we want to sum two numbers that the user inputs:"
   ]
  },
  {
   "cell_type": "code",
   "execution_count": null,
   "metadata": {},
   "outputs": [],
   "source": [
    "# First of all, let's see how the built-in to read user input works\n",
    "help(input)"
   ]
  },
  {
   "cell_type": "code",
   "execution_count": null,
   "metadata": {},
   "outputs": [],
   "source": [
    "input(\"a = \")\n",
    "input(\"b = \")\n",
    "# and now? how do we get the numbers the user inserted?"
   ]
  },
  {
   "cell_type": "markdown",
   "metadata": {},
   "source": [
    "Introducing *variables*! Variables are the way we assign labels to objects and we do so in a very straightforward way:"
   ]
  },
  {
   "cell_type": "code",
   "execution_count": null,
   "metadata": {},
   "outputs": [],
   "source": [
    "a = input(\"a = \")\n",
    "whatever = input(\"b = \")\n",
    "print(a)\n",
    "print(whatever)"
   ]
  },
  {
   "cell_type": "markdown",
   "metadata": {},
   "source": [
    "At this point you may ask what properties the value pointed by `a` has. Is it a number? Can I add it to a number? I mean, what can I do with it?"
   ]
  },
  {
   "cell_type": "markdown",
   "metadata": {},
   "source": [
    "## Types of things\n",
    "In python the type of a variable is not explicit, it assumes the type of the object stored in it.\n",
    "You can check the type of something using the `type()` built-in.\n",
    "In the next snippet we find two common types:\n",
    "- *string*: text data, sequences of letters (characters)\n",
    "- *numbers*: which can be *integers* like 1, 10, 200 or *floats* like 3.14 and 1.655"
   ]
  },
  {
   "cell_type": "code",
   "execution_count": null,
   "metadata": {},
   "outputs": [],
   "source": [
    "# assign an integer value to a\n",
    "a = 10\n",
    "print(type(a))\n",
    "\n",
    "# assign a string value to a\n",
    "a = \"10\"\n",
    "print(type(a))"
   ]
  },
  {
   "cell_type": "markdown",
   "metadata": {},
   "source": [
    "The fact that types are implicit allows you to focus less on the type of the variable and more on what operations it support: this is known as *duck typing* \"if it walks like a duck and quacks like a duck, then it must be a duck!\".\n",
    "The operations that an object allows are determined by whether it implements some operation rather than by its type."
   ]
  },
  {
   "cell_type": "code",
   "execution_count": null,
   "metadata": {},
   "outputs": [],
   "source": [
    "# I can add numbers\n",
    "print(\"Two: \", 1 + 1)\n",
    "# But I can also add strings\n",
    "print(\"Hello\" + \" \" + \"World!\")"
   ]
  },
  {
   "cell_type": "code",
   "execution_count": null,
   "metadata": {},
   "outputs": [],
   "source": [
    "# Multiply numbers\n",
    "print(\"Five: \", 2 * 2.5)\n",
    "# Multiply string and int?\n",
    "print(\"me\" * 2)\n",
    "print(3 * \"bar\")"
   ]
  },
  {
   "cell_type": "code",
   "execution_count": null,
   "metadata": {},
   "outputs": [],
   "source": [
    "# Divide numbers\n",
    "print(10 / 2)\n",
    "print(100 / 3)\n",
    "# Modulus division (The rest of the divison 10 / 3)\n",
    "print(10 % 3)"
   ]
  },
  {
   "cell_type": "code",
   "execution_count": null,
   "metadata": {},
   "outputs": [],
   "source": [
    "# Multiply string and string?\n",
    "# This will not work, what could it even mean to multiply text? In general we have no idea,\n",
    "# so it is not supported.\n",
    "print(\"a\" * \"b\")"
   ]
  },
  {
   "cell_type": "markdown",
   "metadata": {},
   "source": [
    "You will see that the same principle applies to many other objects. For instance the act of concatenation is common to all sequences of things, regardless of the type, so it makes sense that if you find two sequences of elements you can concatenate them using the `+` operator.\n",
    "\n",
    "Sometimes you find yourself in a situation where you have a number and you want a string, or the converse.\n",
    "Most objects support the conversion to string using `str()`."
   ]
  },
  {
   "cell_type": "code",
   "execution_count": null,
   "metadata": {},
   "outputs": [],
   "source": [
    "print(\"Twenty \" + str(20))\n",
    "print(\"Print is \" + str(print))"
   ]
  },
  {
   "cell_type": "markdown",
   "metadata": {},
   "source": [
    "Converting from an object to another is generally specific to the type you are converting to, only strings are special in this sense because such operation is extremely common.\n",
    "For instance integers support conversion from strings but not from other arbitrary objects:"
   ]
  },
  {
   "cell_type": "code",
   "execution_count": null,
   "metadata": {},
   "outputs": [],
   "source": [
    "print(10 + int(\"1\"))"
   ]
  },
  {
   "cell_type": "code",
   "execution_count": null,
   "metadata": {},
   "outputs": [],
   "source": [
    "# What this would even mean?\n",
    "print(10 + int(print))"
   ]
  },
  {
   "cell_type": "markdown",
   "metadata": {},
   "source": [
    "It is worth noting that there is a special `None` value in python, which has no type (`NoneType`). This represents the content of variables that contain nothing."
   ]
  },
  {
   "cell_type": "markdown",
   "metadata": {},
   "source": [
    "---\n",
    "**Practice**\n",
    "\n",
    "Time for some practice now. Write a small script that gets two numbers as inputs and prints out their sum, difference, multiplication and quotient."
   ]
  },
  {
   "cell_type": "code",
   "execution_count": null,
   "metadata": {},
   "outputs": [],
   "source": [
    "# Your solution here"
   ]
  },
  {
   "cell_type": "markdown",
   "metadata": {},
   "source": [
    "*Solution*"
   ]
  },
  {
   "cell_type": "code",
   "execution_count": null,
   "metadata": {},
   "outputs": [],
   "source": [
    "# note that when you write something, input returns a string,\n",
    "# but we want an actual number here\n",
    "x = int(input(\"Insert x = \"))\n",
    "y = int(input(\"Insert y = \"))\n",
    "print(\"Sum: \", x + y)\n",
    "print(\"Diff: \", x - y)\n",
    "print(\"Mul: \", x * y)\n",
    "print(\"Div: \", x / y)"
   ]
  },
  {
   "cell_type": "markdown",
   "metadata": {},
   "source": [
    "## Functions\n",
    "Functions are a mechanism for reusing and organising your code. You have already encountered the syntax for calling functions: `print()` is actually a built-in function.\n",
    "A function definition is composed of the following elements:\n",
    "- The name of the function, this is used to *call* the function (execute it).\n",
    "- The argument list, this is a list of function inputs\n",
    "\n",
    "A function has a return value, which can be specified using the `return` keyword. If no `return` is specified, the function will return `None`. The value returned is \"substituted\" at the place the function is called."
   ]
  },
  {
   "cell_type": "code",
   "execution_count": null,
   "metadata": {},
   "outputs": [],
   "source": [
    "def add(x, y):\n",
    "    return x + y\n",
    "\n",
    "print(add(10, 5))\n",
    "print(add(\"Hello\", \"World!\"))"
   ]
  },
  {
   "cell_type": "markdown",
   "metadata": {},
   "source": [
    "We can assign a default value to the function arguments. Note that you can not mix arguments with a default value and arguments with no default value, this is because the interpreter would not be able to determine which value to bind to which argument."
   ]
  },
  {
   "cell_type": "code",
   "execution_count": null,
   "metadata": {},
   "outputs": [],
   "source": [
    "# Good\n",
    "def add(x, y=10):\n",
    "    return x + y\n",
    "\n",
    "# Good\n",
    "def sub(x=5, y=15):\n",
    "    return x - y\n",
    "\n",
    "print(add(1))\n",
    "print(add(10, 20))\n",
    "print(sub())"
   ]
  },
  {
   "cell_type": "code",
   "execution_count": null,
   "metadata": {},
   "outputs": [],
   "source": [
    "# Bad - is 100 overriding the default value of x, or is the positional value of y?\n",
    "def add(x=1, y):\n",
    "    return x + y\n",
    "\n",
    "print(add(100))"
   ]
  },
  {
   "cell_type": "markdown",
   "metadata": {},
   "source": [
    "In the above examples, the function arguments (x and y) are matched positionally to the values in parentheses in the function call. Python allows you to actually specify the values out-of-order."
   ]
  },
  {
   "cell_type": "code",
   "execution_count": null,
   "metadata": {},
   "outputs": [],
   "source": [
    "def add(x, y):\n",
    "    return x + y\n",
    "\n",
    "print(add(y=4, x=3))"
   ]
  },
  {
   "cell_type": "markdown",
   "metadata": {},
   "source": [
    "When arguments are specified in this way they are called *keyword* arguments. In general this technique is used either when there is a large amount of arguments and it is hard to follow what is what, or to specify only a partial set of arguments."
   ]
  },
  {
   "cell_type": "code",
   "execution_count": null,
   "metadata": {},
   "outputs": [],
   "source": [
    "def addsub(x, y=5, z=10):\n",
    "    return x + y - z\n",
    "\n",
    "print(addsub(100, z=35))"
   ]
  },
  {
   "cell_type": "markdown",
   "metadata": {},
   "source": [
    "## Objects\n",
    "Everything in Python is an *object*. Each object is associated to a *class*, which determines its *type*, and the set of operations that you can perform with the object. Classes are the mechanism that allows you to define custom types with any associated operation you may required. We will go through classes later in the tutorial, for now we just want to get an idea of the concept of *object*.\n",
    "\n",
    "Essentially the class defines a set of functions, called *methods*, that you can call on each object of that class. The class also defines a set of variables, called *properties*, that are associated to each object of that class.\n",
    "\n",
    "An example will make everything clear:"
   ]
  },
  {
   "cell_type": "code",
   "execution_count": null,
   "metadata": {},
   "outputs": [],
   "source": [
    "# The string type is actually defined by a class\n",
    "help(str)"
   ]
  },
  {
   "cell_type": "code",
   "execution_count": null,
   "metadata": {},
   "outputs": [],
   "source": [
    "# Then strings are objects of class string.\n",
    "x = \"Hello World!\"\n",
    "# The help() output shows all the methods and properties of the objects of class string.\n",
    "# For instance we can convert the string to lower case.\n",
    "# This notation tells the interpreter to invoke the method \"lower\" on the object x.\n",
    "# X is a string, so you will end up invoking the method lower specified by the string class.\n",
    "print(x.lower())"
   ]
  },
  {
   "cell_type": "markdown",
   "metadata": {},
   "source": [
    "Using a similar syntax, you can access the object's properties:"
   ]
  },
  {
   "cell_type": "code",
   "execution_count": null,
   "metadata": {},
   "outputs": [],
   "source": [
    "# A complex number\n",
    "x = 10 + 4j\n",
    "# Note that we omit the \"()\", those denote a function call and our property is an integer,\n",
    "# not a function, so it can not be called!\n",
    "print(x.real, x.imag)"
   ]
  },
  {
   "cell_type": "markdown",
   "metadata": {},
   "source": [
    "We will come back to objects and classes later, when we are ready to deal with some more advanced concepts.\n",
    "For now let's just practice to make sure we are happy with the idea of objects and methods.\n",
    "\n",
    "---\n",
    "**Practice**\n",
    "\n",
    "Use string methods to replace all occurrences of the substring \"bad\" with \"good\"."
   ]
  },
  {
   "cell_type": "code",
   "execution_count": null,
   "metadata": {},
   "outputs": [],
   "source": [
    "test = \"I am bad at coding with python!\"\n",
    "# Your solution here"
   ]
  },
  {
   "cell_type": "markdown",
   "metadata": {},
   "source": [
    "*Solution*"
   ]
  },
  {
   "cell_type": "code",
   "execution_count": null,
   "metadata": {},
   "outputs": [],
   "source": [
    "test.replace(\"bad\", \"good\")"
   ]
  },
  {
   "cell_type": "markdown",
   "metadata": {},
   "source": [
    "## Collections\n",
    "The built-in container types provide useful objects that bundle togheter an arbitrary number of items.\n",
    "All of them support ways to insert, remove and access items within the container. Remember that `help()` is your friend.\n",
    "The most common container types are:\n",
    "- list\n",
    "- tuple\n",
    "- dictionary\n",
    "- set\n",
    "\n",
    "### List\n",
    "A list does exactly what it says: it represents a list of things. It can be created using the `list()` built-in or the `[]` notation."
   ]
  },
  {
   "cell_type": "code",
   "execution_count": null,
   "metadata": {},
   "outputs": [],
   "source": [
    "# Two ways to create a list, the first one is the most used, since it is more concise.\n",
    "my_empty_list = []\n",
    "another_empty_list = list()\n",
    "\n",
    "my_numbers = [1, 2, 3, 4]\n",
    "my_things = [1, \"10\", None, 1.4, []]\n",
    "\n",
    "print([1, 2])\n",
    "print([100, 200] + my_numbers)"
   ]
  },
  {
   "cell_type": "markdown",
   "metadata": {},
   "source": [
    "## Functions #2\n",
    "There is a special notation that allows a function to absorb any number of arguments or keyword arguments."
   ]
  },
  {
   "cell_type": "code",
   "execution_count": null,
   "metadata": {},
   "outputs": [],
   "source": [
    "# Positional arguments are packed in a tuple\n",
    "def print_all(*args):\n",
    "    # will print the list \"args\" as a string\n",
    "    print(args)\n",
    "    # will forward all the items the the args list to the function print as multiple arguments\n",
    "    print(*args)\n",
    "    \n",
    "print_all(1, 2, \"a\", \"hello\")"
   ]
  },
  {
   "cell_type": "code",
   "execution_count": null,
   "metadata": {},
   "outputs": [],
   "source": [
    "# Keyword arguments are packed in a dictionary\n",
    "def show_xy(**kwargs):\n",
    "    print(kwargs[\"x\"])\n",
    "    print(kwargs[\"y\"])\n",
    "    \n",
    "show_xy(x=10, y=\"foo\")"
   ]
  },
  {
   "cell_type": "markdown",
   "metadata": {},
   "source": [
    "Both positional and keyword arguments can be forwarded to another function. In general you can use the `*` and `**` operators with any list or dictionary to use their values as arguments or keyword arguments respectively."
   ]
  },
  {
   "cell_type": "markdown",
   "metadata": {},
   "source": [
    "## Conditionally doing things"
   ]
  },
  {
   "cell_type": "markdown",
   "metadata": {},
   "source": [
    "## Loops and repetition"
   ]
  },
  {
   "cell_type": "markdown",
   "metadata": {},
   "source": [
    "## Modules and packages\n",
    "We will move slightly ahead of ourselves here, I want to show first how to use third party code so that we can make more engaging examples even for basic language features."
   ]
  },
  {
   "cell_type": "markdown",
   "metadata": {},
   "source": [
    "## Classes and objects\n",
    "While we are at it, let's introduce some more complex constructs in advance!"
   ]
  },
  {
   "cell_type": "markdown",
   "metadata": {},
   "source": [
    "## If the milk is cold, heat it up\n",
    "Sometimes you want to do something when some condition holds. What if you want to "
   ]
  }
 ],
 "metadata": {
  "kernelspec": {
   "display_name": "Python 3",
   "language": "python",
   "name": "python3"
  },
  "language_info": {
   "codemirror_mode": {
    "name": "ipython",
    "version": 3
   },
   "file_extension": ".py",
   "mimetype": "text/x-python",
   "name": "python",
   "nbconvert_exporter": "python",
   "pygments_lexer": "ipython3",
   "version": "3.7.2"
  }
 },
 "nbformat": 4,
 "nbformat_minor": 2
}
