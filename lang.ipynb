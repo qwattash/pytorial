{
 "cells": [
  {
   "cell_type": "markdown",
   "metadata": {},
   "source": [
    "# Language Features\n",
    "We will now create our first python script. As usual in programming tutorial, we will just print the text \"Hello World!\".\n",
    "In this chapter we will learn the basic constructs of the language, which allow to express the various algorithms you may come up with.\n",
    "Let us now analyze a simple helloworld, I will then explain what it does line by line, to introduce the basic notions of the language.\n",
    "\n",
    "- Hello world\n",
    "- How to avoid the hatred of your future self\n",
    "- The outside world is your friend\n",
    "- Basic language gotchas\n",
    "- Control flow\n",
    "- Splitting and reusing your code"
   ]
  },
  {
   "cell_type": "code",
   "execution_count": 1,
   "metadata": {},
   "outputs": [
    {
     "name": "stdout",
     "output_type": "stream",
     "text": [
      "Hello World\n"
     ]
    }
   ],
   "source": [
    "# This is a python Hello World script\n",
    "\n",
    "print(\"Hello World\")"
   ]
  },
  {
   "cell_type": "markdown",
   "metadata": {},
   "source": [
    "In Python the source file is evaluated from top to bottom, the interpreter reads each line and perform whatever action it specifes (e.g. print something or define something).\n",
    "\n",
    "**Line 1**\n",
    "Lines starting with `#` are called *comments* and are ignored, these are designed to let you add contextual information to simplify maintenance and make the code easier to understand.\n",
    "\n",
    "**Line 2**\n",
    "`print()` is a built-in *function* provided by the interpreter, the syntax `myfunction()` denotes a *function call*: it tells the interpreter to execute the function named \"myfunction\" and pass to it the *arguments* enclosed in braces. In this case there is only one argument, which is a piece of text and is represented by enclosing the text in `\"...\"`."
   ]
  },
  {
   "cell_type": "code",
   "execution_count": null,
   "metadata": {},
   "outputs": [],
   "source": []
  }
 ],
 "metadata": {
  "kernelspec": {
   "display_name": "Python 3",
   "language": "python",
   "name": "python3"
  },
  "language_info": {
   "codemirror_mode": {
    "name": "ipython",
    "version": 3
   },
   "file_extension": ".py",
   "mimetype": "text/x-python",
   "name": "python",
   "nbconvert_exporter": "python",
   "pygments_lexer": "ipython3",
   "version": "3.7.2"
  }
 },
 "nbformat": 4,
 "nbformat_minor": 2
}
